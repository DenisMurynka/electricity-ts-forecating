{
 "cells": [
  {
   "cell_type": "code",
   "execution_count": 1,
   "metadata": {},
   "outputs": [],
   "source": [
    "#1\n",
    "import warnings\n",
    "warnings.filterwarnings(\"ignore\", category=FutureWarning)\n",
    "warnings.filterwarnings(\"ignore\", category=Warning)\n",
    "\n",
    "import sys  \n",
    "sys.path.append('../src') \n",
    "#from edge import *\n",
    "import requests\n",
    "import json\n",
    "import pandas as pd\n",
    "import numpy as np\n",
    "import calendar\n",
    "\n",
    "import matplotlib.pyplot as plt\n",
    "plt.rcParams.update({'figure.figsize':(14,10), 'figure.dpi':120})"
   ]
  },
  {
   "cell_type": "code",
   "execution_count": 15,
   "metadata": {},
   "outputs": [
    {
     "data": {
      "text/html": [
       "<div>\n",
       "<style scoped>\n",
       "    .dataframe tbody tr th:only-of-type {\n",
       "        vertical-align: middle;\n",
       "    }\n",
       "\n",
       "    .dataframe tbody tr th {\n",
       "        vertical-align: top;\n",
       "    }\n",
       "\n",
       "    .dataframe thead th {\n",
       "        text-align: right;\n",
       "    }\n",
       "</style>\n",
       "<table border=\"1\" class=\"dataframe\">\n",
       "  <thead>\n",
       "    <tr style=\"text-align: right;\">\n",
       "      <th></th>\n",
       "      <th>price</th>\n",
       "      <th>exo</th>\n",
       "    </tr>\n",
       "    <tr>\n",
       "      <th>datetime</th>\n",
       "      <th></th>\n",
       "      <th></th>\n",
       "    </tr>\n",
       "  </thead>\n",
       "  <tbody>\n",
       "    <tr>\n",
       "      <th>2022.10.31 20:00:00</th>\n",
       "      <td>4000.0</td>\n",
       "      <td>0</td>\n",
       "    </tr>\n",
       "    <tr>\n",
       "      <th>2022.10.31 21:00:00</th>\n",
       "      <td>4000.0</td>\n",
       "      <td>0</td>\n",
       "    </tr>\n",
       "    <tr>\n",
       "      <th>2022.10.31 22:00:00</th>\n",
       "      <td>4000.0</td>\n",
       "      <td>0</td>\n",
       "    </tr>\n",
       "    <tr>\n",
       "      <th>2022.10.31 23:00:00</th>\n",
       "      <td>4000.0</td>\n",
       "      <td>0</td>\n",
       "    </tr>\n",
       "    <tr>\n",
       "      <th>2022.10.31 24:00:00</th>\n",
       "      <td>2000.0</td>\n",
       "      <td>0</td>\n",
       "    </tr>\n",
       "  </tbody>\n",
       "</table>\n",
       "</div>"
      ],
      "text/plain": [
       "                      price  exo\n",
       "datetime                        \n",
       "2022.10.31 20:00:00  4000.0    0\n",
       "2022.10.31 21:00:00  4000.0    0\n",
       "2022.10.31 22:00:00  4000.0    0\n",
       "2022.10.31 23:00:00  4000.0    0\n",
       "2022.10.31 24:00:00  2000.0    0"
      ]
     },
     "execution_count": 15,
     "metadata": {},
     "output_type": "execute_result"
    }
   ],
   "source": [
    "#2\n",
    "full_data = pd.read_excel('7th month.xlsx', parse_dates=['datetime'], index_col='datetime')\n",
    "full_data = full_data.apply(pd.to_numeric) \n",
    "full_data.sort_index(inplace=True)\n",
    "#full_data.shape\n",
    "full_data['exo'] = full_data['exo'].fillna(0)\n",
    "demand_data_analysis = full_data.copy()\n",
    "demand_data_analysis.tail()"
   ]
  },
  {
   "cell_type": "code",
   "execution_count": 3,
   "metadata": {},
   "outputs": [
    {
     "data": {
      "text/plain": [
       "(29233, 1)"
      ]
     },
     "execution_count": 3,
     "metadata": {},
     "output_type": "execute_result"
    }
   ],
   "source": [
    "full_data = pd.read_excel('masterfile 2cols sorted.xlsx', parse_dates=['datetime'], index_col='datetime')\n",
    "full_data = full_data.apply(pd.to_numeric) \n",
    "full_data.sort_index(inplace=True)\n",
    "full_data.shape"
   ]
  },
  {
   "cell_type": "code",
   "execution_count": 48,
   "metadata": {},
   "outputs": [
    {
     "name": "stdout",
     "output_type": "stream",
     "text": [
      "<class 'pandas.core.frame.DataFrame'>\n",
      "Index: 744 entries, 2022.10.01 01:00:00 to 2022.10.31 24:00:00\n",
      "Data columns (total 2 columns):\n",
      " #   Column  Non-Null Count  Dtype  \n",
      "---  ------  --------------  -----  \n",
      " 0   price   744 non-null    float64\n",
      " 1   exo     744 non-null    int64  \n",
      "dtypes: float64(1), int64(1)\n",
      "memory usage: 17.4+ KB\n"
     ]
    }
   ],
   "source": [
    "full_data.info()"
   ]
  },
  {
   "cell_type": "code",
   "execution_count": 5,
   "metadata": {},
   "outputs": [
    {
     "data": {
      "text/plain": [
       "(744, 2)"
      ]
     },
     "execution_count": 5,
     "metadata": {},
     "output_type": "execute_result"
    }
   ],
   "source": [
    "demand_data_analysis = full_data.copy()\n",
    "demand_data_analysis.shape"
   ]
  },
  {
   "cell_type": "code",
   "execution_count": 50,
   "metadata": {},
   "outputs": [
    {
     "ename": "AttributeError",
     "evalue": "'DataFrame' object has no attribute 'nem_demand_forecast'",
     "output_type": "error",
     "traceback": [
      "\u001b[0;31m---------------------------------------------------------------------------\u001b[0m",
      "\u001b[0;31mAttributeError\u001b[0m                            Traceback (most recent call last)",
      "\u001b[1;32m/home/denis-root/Documents/data engineering projects/ua_market_forecast.ipynb Cell 6\u001b[0m in \u001b[0;36m<cell line: 1>\u001b[0;34m()\u001b[0m\n\u001b[0;32m----> <a href='vscode-notebook-cell:/home/denis-root/Documents/data%20engineering%20projects/ua_market_forecast.ipynb#W5sZmlsZQ%3D%3D?line=0'>1</a>\u001b[0m mse_original \u001b[39m=\u001b[39m ((demand_data_analysis\u001b[39m.\u001b[39;49mnem_demand_forecast\u001b[39m.\u001b[39mto_numpy() \u001b[39m-\u001b[39m \n\u001b[1;32m      <a href='vscode-notebook-cell:/home/denis-root/Documents/data%20engineering%20projects/ua_market_forecast.ipynb#W5sZmlsZQ%3D%3D?line=1'>2</a>\u001b[0m                  demand_data_analysis\u001b[39m.\u001b[39mnem_demand_actual\u001b[39m.\u001b[39mto_numpy()) \u001b[39m*\u001b[39m\u001b[39m*\u001b[39m \u001b[39m2\u001b[39m)\u001b[39m.\u001b[39mmean()\n\u001b[1;32m      <a href='vscode-notebook-cell:/home/denis-root/Documents/data%20engineering%20projects/ua_market_forecast.ipynb#W5sZmlsZQ%3D%3D?line=2'>3</a>\u001b[0m \u001b[39mprint\u001b[39m(\u001b[39m'\u001b[39m\u001b[39mMean square error of forecasted demand from source: \u001b[39m\u001b[39m{:.2f}\u001b[39;00m\u001b[39m'\u001b[39m\u001b[39m.\u001b[39mformat(mse_original))\n",
      "File \u001b[0;32m~/.local/lib/python3.10/site-packages/pandas/core/generic.py:5902\u001b[0m, in \u001b[0;36mNDFrame.__getattr__\u001b[0;34m(self, name)\u001b[0m\n\u001b[1;32m   5895\u001b[0m \u001b[39mif\u001b[39;00m (\n\u001b[1;32m   5896\u001b[0m     name \u001b[39mnot\u001b[39;00m \u001b[39min\u001b[39;00m \u001b[39mself\u001b[39m\u001b[39m.\u001b[39m_internal_names_set\n\u001b[1;32m   5897\u001b[0m     \u001b[39mand\u001b[39;00m name \u001b[39mnot\u001b[39;00m \u001b[39min\u001b[39;00m \u001b[39mself\u001b[39m\u001b[39m.\u001b[39m_metadata\n\u001b[1;32m   5898\u001b[0m     \u001b[39mand\u001b[39;00m name \u001b[39mnot\u001b[39;00m \u001b[39min\u001b[39;00m \u001b[39mself\u001b[39m\u001b[39m.\u001b[39m_accessors\n\u001b[1;32m   5899\u001b[0m     \u001b[39mand\u001b[39;00m \u001b[39mself\u001b[39m\u001b[39m.\u001b[39m_info_axis\u001b[39m.\u001b[39m_can_hold_identifiers_and_holds_name(name)\n\u001b[1;32m   5900\u001b[0m ):\n\u001b[1;32m   5901\u001b[0m     \u001b[39mreturn\u001b[39;00m \u001b[39mself\u001b[39m[name]\n\u001b[0;32m-> 5902\u001b[0m \u001b[39mreturn\u001b[39;00m \u001b[39mobject\u001b[39;49m\u001b[39m.\u001b[39;49m\u001b[39m__getattribute__\u001b[39;49m(\u001b[39mself\u001b[39;49m, name)\n",
      "\u001b[0;31mAttributeError\u001b[0m: 'DataFrame' object has no attribute 'nem_demand_forecast'"
     ]
    }
   ],
   "source": [
    "mse_original = ((demand_data_analysis.nem_demand_forecast.to_numpy() - \n",
    "                 demand_data_analysis.nem_demand_actual.to_numpy()) ** 2).mean()\n",
    "print('Mean square error of forecasted demand from source: {:.2f}'.format(mse_original))"
   ]
  },
  {
   "cell_type": "code",
   "execution_count": 6,
   "metadata": {},
   "outputs": [
    {
     "data": {
      "image/png": "[encoded data removed]",
      "text/plain": [
       "<Figure size 432x288 with 1 Axes>"
      ]
     },
     "metadata": {
      "needs_background": "light"
     },
     "output_type": "display_data"
    },
    {
     "name": "stdout",
     "output_type": "stream",
     "text": [
      "ADF Statistic: -8.097275681701229\n",
      "p-value: 1.32863042946443e-12\n"
     ]
    }
   ],
   "source": [
    "# Import augmented dicky-fuller test function\n",
    "from statsmodels.tsa.stattools import adfuller\n",
    "\n",
    "#plt.figure(figsize=(600,100))\n",
    "plt.rcParams[\"figure.figsize\"] = (40,10)\n",
    "\n",
    "# # Plot time series\n",
    "demand_data_analysis['price'].plot()\n",
    "plt.show()\n",
    "\n",
    "# Run Dicky-Fuller test\n",
    "result = adfuller(demand_data_analysis.price)\n",
    "\n",
    "# Print the test statistic and the p-value\n",
    "print('ADF Statistic:', result[0])\n",
    "print('p-value:', result[1])"
   ]
  },
  {
   "cell_type": "code",
   "execution_count": 7,
   "metadata": {},
   "outputs": [
    {
     "data": {
      "image/png": "[encoded data removed]",
      "text/plain": [
       "<Figure size 1440x576 with 2 Axes>"
      ]
     },
     "metadata": {
      "needs_background": "light"
     },
     "output_type": "display_data"
    }
   ],
   "source": [
    "from statsmodels.graphics.tsaplots import plot_acf, plot_pacf\n",
    "\n",
    "# Import data\n",
    "series = demand_data_analysis.price.interpolate().reset_index(drop=True)\n",
    "\n",
    "# Create figure\n",
    "fig, (ax1, ax2) = plt.subplots(nrows=2, ncols=1, figsize=(20,8))\n",
    " \n",
    "# Plot the ACF of savings on ax1\n",
    "plot_acf(demand_data_analysis.price, zero=False, ax=ax1)\n",
    "\n",
    "# Plot the PACF of savings on ax2\n",
    "plot_pacf(demand_data_analysis.price, zero=False, ax=ax2)\n",
    "\n",
    "plt.show()"
   ]
  },
  {
   "cell_type": "code",
   "execution_count": 8,
   "metadata": {},
   "outputs": [
    {
     "name": "stdout",
     "output_type": "stream",
     "text": [
      "744\n"
     ]
    },
    {
     "ename": "ValueError",
     "evalue": "Can only compute partial correlations for lags up to 50% of the sample size. The requested nlags 24 must be < 24.",
     "output_type": "error",
     "traceback": [
      "\u001b[0;31m---------------------------------------------------------------------------\u001b[0m",
      "\u001b[0;31mValueError\u001b[0m                                Traceback (most recent call last)",
      "\u001b[1;32m/home/denis-root/Documents/data engineering projects/ua_market_forecast.ipynb Cell 9\u001b[0m in \u001b[0;36m<cell line: 12>\u001b[0;34m()\u001b[0m\n\u001b[1;32m     <a href='vscode-notebook-cell:/home/denis-root/Documents/data%20engineering%20projects/ua_market_forecast.ipynb#X11sZmlsZQ%3D%3D?line=9'>10</a>\u001b[0m axes[\u001b[39m0\u001b[39m, \u001b[39m0\u001b[39m]\u001b[39m.\u001b[39mplot(series); axes[\u001b[39m0\u001b[39m, \u001b[39m0\u001b[39m]\u001b[39m.\u001b[39mset_title(\u001b[39m'\u001b[39m\u001b[39mOriginal Series\u001b[39m\u001b[39m'\u001b[39m)\n\u001b[1;32m     <a href='vscode-notebook-cell:/home/denis-root/Documents/data%20engineering%20projects/ua_market_forecast.ipynb#X11sZmlsZQ%3D%3D?line=10'>11</a>\u001b[0m plot_acf(series, lags\u001b[39m=\u001b[39mACF_LAGS, zero\u001b[39m=\u001b[39m\u001b[39mFalse\u001b[39;00m, ax\u001b[39m=\u001b[39maxes[\u001b[39m0\u001b[39m, \u001b[39m1\u001b[39m]) \n\u001b[0;32m---> <a href='vscode-notebook-cell:/home/denis-root/Documents/data%20engineering%20projects/ua_market_forecast.ipynb#X11sZmlsZQ%3D%3D?line=11'>12</a>\u001b[0m plot_pacf(series, lags\u001b[39m=\u001b[39;49mACF_LAGS, zero\u001b[39m=\u001b[39;49m\u001b[39mFalse\u001b[39;49;00m, ax\u001b[39m=\u001b[39;49maxes[\u001b[39m0\u001b[39;49m, \u001b[39m2\u001b[39;49m])\n\u001b[1;32m     <a href='vscode-notebook-cell:/home/denis-root/Documents/data%20engineering%20projects/ua_market_forecast.ipynb#X11sZmlsZQ%3D%3D?line=13'>14</a>\u001b[0m \u001b[39m# 1st Differencing\u001b[39;00m\n\u001b[1;32m     <a href='vscode-notebook-cell:/home/denis-root/Documents/data%20engineering%20projects/ua_market_forecast.ipynb#X11sZmlsZQ%3D%3D?line=14'>15</a>\u001b[0m axes[\u001b[39m1\u001b[39m, \u001b[39m0\u001b[39m]\u001b[39m.\u001b[39mplot(series\u001b[39m.\u001b[39mdiff()); axes[\u001b[39m1\u001b[39m, \u001b[39m0\u001b[39m]\u001b[39m.\u001b[39mset_title(\u001b[39m'\u001b[39m\u001b[39m1st Order Differencing\u001b[39m\u001b[39m'\u001b[39m)\n",
      "File \u001b[0;32m~/.local/lib/python3.10/site-packages/statsmodels/graphics/tsaplots.py:363\u001b[0m, in \u001b[0;36mplot_pacf\u001b[0;34m(x, ax, lags, alpha, method, use_vlines, title, zero, vlines_kwargs, **kwargs)\u001b[0m\n\u001b[1;32m    361\u001b[0m     acf_x \u001b[39m=\u001b[39m pacf(x, nlags\u001b[39m=\u001b[39mnlags, alpha\u001b[39m=\u001b[39malpha, method\u001b[39m=\u001b[39mmethod)\n\u001b[1;32m    362\u001b[0m \u001b[39melse\u001b[39;00m:\n\u001b[0;32m--> 363\u001b[0m     acf_x, confint \u001b[39m=\u001b[39m pacf(x, nlags\u001b[39m=\u001b[39;49mnlags, alpha\u001b[39m=\u001b[39;49malpha, method\u001b[39m=\u001b[39;49mmethod)\n\u001b[1;32m    365\u001b[0m _plot_corr(\n\u001b[1;32m    366\u001b[0m     ax,\n\u001b[1;32m    367\u001b[0m     title,\n\u001b[0;32m   (...)\u001b[0m\n\u001b[1;32m    374\u001b[0m     \u001b[39m*\u001b[39m\u001b[39m*\u001b[39mkwargs,\n\u001b[1;32m    375\u001b[0m )\n\u001b[1;32m    377\u001b[0m \u001b[39mreturn\u001b[39;00m fig\n",
      "File \u001b[0;32m~/.local/lib/python3.10/site-packages/statsmodels/tsa/stattools.py:996\u001b[0m, in \u001b[0;36mpacf\u001b[0;34m(x, nlags, method, alpha)\u001b[0m\n\u001b[1;32m    994\u001b[0m     nlags \u001b[39m=\u001b[39m \u001b[39mmin\u001b[39m(\u001b[39mint\u001b[39m(\u001b[39m10\u001b[39m \u001b[39m*\u001b[39m np\u001b[39m.\u001b[39mlog10(nobs)), nobs \u001b[39m/\u001b[39m\u001b[39m/\u001b[39m \u001b[39m2\u001b[39m \u001b[39m-\u001b[39m \u001b[39m1\u001b[39m)\n\u001b[1;32m    995\u001b[0m \u001b[39mif\u001b[39;00m nlags \u001b[39m>\u001b[39m\u001b[39m=\u001b[39m x\u001b[39m.\u001b[39mshape[\u001b[39m0\u001b[39m] \u001b[39m/\u001b[39m\u001b[39m/\u001b[39m \u001b[39m2\u001b[39m:\n\u001b[0;32m--> 996\u001b[0m     \u001b[39mraise\u001b[39;00m \u001b[39mValueError\u001b[39;00m(\n\u001b[1;32m    997\u001b[0m         \u001b[39m\"\u001b[39m\u001b[39mCan only compute partial correlations for lags up to 50\u001b[39m\u001b[39m% o\u001b[39;00m\u001b[39mf the \u001b[39m\u001b[39m\"\u001b[39m\n\u001b[1;32m    998\u001b[0m         \u001b[39mf\u001b[39m\u001b[39m\"\u001b[39m\u001b[39msample size. The requested nlags \u001b[39m\u001b[39m{\u001b[39;00mnlags\u001b[39m}\u001b[39;00m\u001b[39m must be < \u001b[39m\u001b[39m\"\u001b[39m\n\u001b[1;32m    999\u001b[0m         \u001b[39mf\u001b[39m\u001b[39m\"\u001b[39m\u001b[39m{\u001b[39;00mx\u001b[39m.\u001b[39mshape[\u001b[39m0\u001b[39m] \u001b[39m/\u001b[39m\u001b[39m/\u001b[39m \u001b[39m2\u001b[39m\u001b[39m}\u001b[39;00m\u001b[39m.\u001b[39m\u001b[39m\"\u001b[39m\n\u001b[1;32m   1000\u001b[0m     )\n\u001b[1;32m   1002\u001b[0m \u001b[39mif\u001b[39;00m method \u001b[39min\u001b[39;00m (\u001b[39m\"\u001b[39m\u001b[39mols\u001b[39m\u001b[39m\"\u001b[39m, \u001b[39m\"\u001b[39m\u001b[39mols-inefficient\u001b[39m\u001b[39m\"\u001b[39m, \u001b[39m\"\u001b[39m\u001b[39mols-adjusted\u001b[39m\u001b[39m\"\u001b[39m):\n\u001b[1;32m   1003\u001b[0m     efficient \u001b[39m=\u001b[39m \u001b[39m\"\u001b[39m\u001b[39minefficient\u001b[39m\u001b[39m\"\u001b[39m \u001b[39mnot\u001b[39;00m \u001b[39min\u001b[39;00m method\n",
      "\u001b[0;31mValueError\u001b[0m: Can only compute partial correlations for lags up to 50% of the sample size. The requested nlags 24 must be < 24."
     ]
    },
    {
     "data": {
      "image/png": "[encoded data removed]",
      "text/plain": [
       "<Figure size 432x288 with 9 Axes>"
      ]
     },
     "metadata": {
      "needs_background": "light"
     },
     "output_type": "display_data"
    }
   ],
   "source": [
    "from statsmodels.graphics.tsaplots import plot_acf, plot_pacf\n",
    "# ACF_LAGS = demand_data_analysis.shape[0] - 10\n",
    "ACF_LAGS = 24\n",
    "print(demand_data_analysis.shape[0])\n",
    "# Import data\n",
    "series = demand_data_analysis.price.reset_index(drop=True)[0:ACF_LAGS*2]\n",
    "\n",
    "# Original Series\n",
    "fig, axes = plt.subplots(3, 3, sharex=True)\n",
    "axes[0, 0].plot(series); axes[0, 0].set_title('Original Series')\n",
    "plot_acf(series, lags=ACF_LAGS, zero=False, ax=axes[0, 1]) \n",
    "plot_pacf(series, lags=ACF_LAGS, zero=False, ax=axes[0, 2])\n",
    "\n",
    "# 1st Differencing\n",
    "axes[1, 0].plot(series.diff()); axes[1, 0].set_title('1st Order Differencing')\n",
    "plot_acf(series.diff().dropna(), lags=ACF_LAGS, zero=False, ax=axes[1, 1])\n",
    "plot_pacf(series.diff().dropna(), lags=ACF_LAGS, zero=False, ax=axes[1, 2])\n",
    "\n",
    "# 2nd Differencing\n",
    "axes[2, 0].plot(series.diff().diff()); axes[2, 0].set_title('2nd Order Differencing')\n",
    "plot_acf(series.diff().diff().dropna(), lags=ACF_LAGS, zero=False, ax=axes[2, 1])\n",
    "plot_pacf(series.diff().diff().dropna(), lags=ACF_LAGS, zero=False, ax=axes[2, 2])\n",
    "\n",
    "plt.show()"
   ]
  },
  {
   "cell_type": "code",
   "execution_count": 9,
   "metadata": {},
   "outputs": [
    {
     "data": {
      "image/png": "[encoded data removed]",
      "text/plain": [
       "<Figure size 2160x216 with 2 Axes>"
      ]
     },
     "metadata": {
      "needs_background": "light"
     },
     "output_type": "display_data"
    }
   ],
   "source": [
    "fig, axes = plt.subplots(1, 2, sharex=True, figsize=(30,3))\n",
    "axes[0].plot(series.diff()); axes[0].set_title('1st Differencing')\n",
    "axes[1].set(ylim=(0,1.2))\n",
    "plot_acf(series.diff().dropna(), ax=axes[1], lags=24, zero=False)\n",
    "\n",
    "plt.show()"
   ]
  },
  {
   "cell_type": "code",
   "execution_count": 10,
   "metadata": {},
   "outputs": [
    {
     "ename": "ValueError",
     "evalue": "Can only compute partial correlations for lags up to 50% of the sample size. The requested nlags 24 must be < 23.",
     "output_type": "error",
     "traceback": [
      "\u001b[0;31m---------------------------------------------------------------------------\u001b[0m",
      "\u001b[0;31mValueError\u001b[0m                                Traceback (most recent call last)",
      "\u001b[1;32m/home/denis-root/Documents/data engineering projects/ua_market_forecast.ipynb Cell 11\u001b[0m in \u001b[0;36m<cell line: 4>\u001b[0;34m()\u001b[0m\n\u001b[1;32m      <a href='vscode-notebook-cell:/home/denis-root/Documents/data%20engineering%20projects/ua_market_forecast.ipynb#X13sZmlsZQ%3D%3D?line=1'>2</a>\u001b[0m axes[\u001b[39m0\u001b[39m]\u001b[39m.\u001b[39mplot(series\u001b[39m.\u001b[39mdiff()); axes[\u001b[39m0\u001b[39m]\u001b[39m.\u001b[39mset_title(\u001b[39m'\u001b[39m\u001b[39m2st Differencing\u001b[39m\u001b[39m'\u001b[39m)\n\u001b[1;32m      <a href='vscode-notebook-cell:/home/denis-root/Documents/data%20engineering%20projects/ua_market_forecast.ipynb#X13sZmlsZQ%3D%3D?line=2'>3</a>\u001b[0m axes[\u001b[39m1\u001b[39m]\u001b[39m.\u001b[39mset(ylim\u001b[39m=\u001b[39m(\u001b[39m0\u001b[39m,\u001b[39m1\u001b[39m))\n\u001b[0;32m----> <a href='vscode-notebook-cell:/home/denis-root/Documents/data%20engineering%20projects/ua_market_forecast.ipynb#X13sZmlsZQ%3D%3D?line=3'>4</a>\u001b[0m plot_pacf(series\u001b[39m.\u001b[39;49mdiff()\u001b[39m.\u001b[39;49mdropna(), ax\u001b[39m=\u001b[39;49maxes[\u001b[39m1\u001b[39;49m], lags\u001b[39m=\u001b[39;49m\u001b[39m24\u001b[39;49m, zero\u001b[39m=\u001b[39;49m\u001b[39mFalse\u001b[39;49;00m)\n\u001b[1;32m      <a href='vscode-notebook-cell:/home/denis-root/Documents/data%20engineering%20projects/ua_market_forecast.ipynb#X13sZmlsZQ%3D%3D?line=5'>6</a>\u001b[0m plt\u001b[39m.\u001b[39mshow()\n",
      "File \u001b[0;32m~/.local/lib/python3.10/site-packages/statsmodels/graphics/tsaplots.py:363\u001b[0m, in \u001b[0;36mplot_pacf\u001b[0;34m(x, ax, lags, alpha, method, use_vlines, title, zero, vlines_kwargs, **kwargs)\u001b[0m\n\u001b[1;32m    361\u001b[0m     acf_x \u001b[39m=\u001b[39m pacf(x, nlags\u001b[39m=\u001b[39mnlags, alpha\u001b[39m=\u001b[39malpha, method\u001b[39m=\u001b[39mmethod)\n\u001b[1;32m    362\u001b[0m \u001b[39melse\u001b[39;00m:\n\u001b[0;32m--> 363\u001b[0m     acf_x, confint \u001b[39m=\u001b[39m pacf(x, nlags\u001b[39m=\u001b[39;49mnlags, alpha\u001b[39m=\u001b[39;49malpha, method\u001b[39m=\u001b[39;49mmethod)\n\u001b[1;32m    365\u001b[0m _plot_corr(\n\u001b[1;32m    366\u001b[0m     ax,\n\u001b[1;32m    367\u001b[0m     title,\n\u001b[0;32m   (...)\u001b[0m\n\u001b[1;32m    374\u001b[0m     \u001b[39m*\u001b[39m\u001b[39m*\u001b[39mkwargs,\n\u001b[1;32m    375\u001b[0m )\n\u001b[1;32m    377\u001b[0m \u001b[39mreturn\u001b[39;00m fig\n",
      "File \u001b[0;32m~/.local/lib/python3.10/site-packages/statsmodels/tsa/stattools.py:996\u001b[0m, in \u001b[0;36mpacf\u001b[0;34m(x, nlags, method, alpha)\u001b[0m\n\u001b[1;32m    994\u001b[0m     nlags \u001b[39m=\u001b[39m \u001b[39mmin\u001b[39m(\u001b[39mint\u001b[39m(\u001b[39m10\u001b[39m \u001b[39m*\u001b[39m np\u001b[39m.\u001b[39mlog10(nobs)), nobs \u001b[39m/\u001b[39m\u001b[39m/\u001b[39m \u001b[39m2\u001b[39m \u001b[39m-\u001b[39m \u001b[39m1\u001b[39m)\n\u001b[1;32m    995\u001b[0m \u001b[39mif\u001b[39;00m nlags \u001b[39m>\u001b[39m\u001b[39m=\u001b[39m x\u001b[39m.\u001b[39mshape[\u001b[39m0\u001b[39m] \u001b[39m/\u001b[39m\u001b[39m/\u001b[39m \u001b[39m2\u001b[39m:\n\u001b[0;32m--> 996\u001b[0m     \u001b[39mraise\u001b[39;00m \u001b[39mValueError\u001b[39;00m(\n\u001b[1;32m    997\u001b[0m         \u001b[39m\"\u001b[39m\u001b[39mCan only compute partial correlations for lags up to 50\u001b[39m\u001b[39m% o\u001b[39;00m\u001b[39mf the \u001b[39m\u001b[39m\"\u001b[39m\n\u001b[1;32m    998\u001b[0m         \u001b[39mf\u001b[39m\u001b[39m\"\u001b[39m\u001b[39msample size. The requested nlags \u001b[39m\u001b[39m{\u001b[39;00mnlags\u001b[39m}\u001b[39;00m\u001b[39m must be < \u001b[39m\u001b[39m\"\u001b[39m\n\u001b[1;32m    999\u001b[0m         \u001b[39mf\u001b[39m\u001b[39m\"\u001b[39m\u001b[39m{\u001b[39;00mx\u001b[39m.\u001b[39mshape[\u001b[39m0\u001b[39m] \u001b[39m/\u001b[39m\u001b[39m/\u001b[39m \u001b[39m2\u001b[39m\u001b[39m}\u001b[39;00m\u001b[39m.\u001b[39m\u001b[39m\"\u001b[39m\n\u001b[1;32m   1000\u001b[0m     )\n\u001b[1;32m   1002\u001b[0m \u001b[39mif\u001b[39;00m method \u001b[39min\u001b[39;00m (\u001b[39m\"\u001b[39m\u001b[39mols\u001b[39m\u001b[39m\"\u001b[39m, \u001b[39m\"\u001b[39m\u001b[39mols-inefficient\u001b[39m\u001b[39m\"\u001b[39m, \u001b[39m\"\u001b[39m\u001b[39mols-adjusted\u001b[39m\u001b[39m\"\u001b[39m):\n\u001b[1;32m   1003\u001b[0m     efficient \u001b[39m=\u001b[39m \u001b[39m\"\u001b[39m\u001b[39minefficient\u001b[39m\u001b[39m\"\u001b[39m \u001b[39mnot\u001b[39;00m \u001b[39min\u001b[39;00m method\n",
      "\u001b[0;31mValueError\u001b[0m: Can only compute partial correlations for lags up to 50% of the sample size. The requested nlags 24 must be < 23."
     ]
    },
    {
     "data": {
      "image/png": "[encoded data removed]",
      "text/plain": [
       "<Figure size 2160x216 with 2 Axes>"
      ]
     },
     "metadata": {
      "needs_background": "light"
     },
     "output_type": "display_data"
    }
   ],
   "source": [
    "fig, axes = plt.subplots(1, 2, sharex=True, figsize=(30,3))\n",
    "axes[0].plot(series.diff()); axes[0].set_title('2st Differencing')\n",
    "axes[1].set(ylim=(0,1))\n",
    "plot_pacf(series.diff().dropna(), ax=axes[1], lags=24, zero=False)\n",
    "\n",
    "plt.show()"
   ]
  },
  {
   "cell_type": "code",
   "execution_count": 4,
   "metadata": {},
   "outputs": [
    {
     "name": "stdout",
     "output_type": "stream",
     "text": [
      "Processing 0,1,0...\n",
      "RUNNING THE L-BFGS-B CODE\n",
      "\n",
      "           * * *\n",
      "\n",
      "Machine precision = 2.220D-16\n",
      " N =            1     M =           10\n",
      "\n",
      "At X0         0 variables are exactly at the bounds\n",
      "\n",
      "At iterate    0    f=  7.76843D+00    |proj g|=  2.32632D-06\n",
      "\n",
      "           * * *\n",
      "\n",
      "Tit   = total number of iterations\n",
      "Tnf   = total number of function evaluations\n",
      "Tnint = total number of segments explored during Cauchy searches\n",
      "Skip  = number of BFGS updates skipped\n",
      "Nact  = number of active bounds at final generalized Cauchy point\n",
      "Projg = norm of the final projected gradient\n",
      "F     = final function value\n",
      "\n",
      "           * * *\n",
      "\n",
      "   N    Tit     Tnf  Tnint  Skip  Nact     Projg        F\n",
      "    1      0      1      0     0     0   2.326D-06   7.768D+00\n",
      "  F =   7.7684294512427989     \n",
      "\n",
      "CONVERGENCE: NORM_OF_PROJECTED_GRADIENT_<=_PGTOL            \n",
      "Processing 0,2,0...\n",
      "RUNNING THE L-BFGS-B CODE\n",
      "\n",
      "           * * *\n",
      "\n",
      "Machine precision = 2.220D-16\n",
      " N =            1     M =           10\n",
      "\n",
      "At X0         0 variables are exactly at the bounds\n",
      "\n",
      "At iterate    0    f=  8.09842D+00    |proj g|=  3.30900D-06\n",
      "\n",
      "           * * *\n",
      "\n",
      "Tit   = total number of iterations\n",
      "Tnf   = total number of function evaluations\n",
      "Tnint = total number of segments explored during Cauchy searches\n",
      "Skip  = number of BFGS updates skipped\n",
      "Nact  = number of active bounds at final generalized Cauchy point\n",
      "Projg = norm of the final projected gradient\n",
      "F     = final function value\n",
      "\n",
      "           * * *\n",
      "\n",
      "   N    Tit     Tnf  Tnint  Skip  Nact     Projg        F\n",
      "    1      0      1      0     0     0   3.309D-06   8.098D+00\n",
      "  F =   8.0984239910045677     \n",
      "\n",
      "CONVERGENCE: NORM_OF_PROJECTED_GRADIENT_<=_PGTOL            \n",
      "Processing 0,1,1...\n",
      "RUNNING THE L-BFGS-B CODE\n",
      "\n",
      "           * * *\n",
      "\n",
      "Machine precision = 2.220D-16\n",
      " N =            2     M =           10\n",
      "\n",
      "At X0         0 variables are exactly at the bounds\n",
      "\n",
      "At iterate    0    f=  7.76843D+00    |proj g|=  3.83785D-05\n",
      "\n",
      "           * * *\n",
      "\n",
      "Tit   = total number of iterations\n",
      "Tnf   = total number of function evaluations\n",
      "Tnint = total number of segments explored during Cauchy searches\n",
      "Skip  = number of BFGS updates skipped\n",
      "Nact  = number of active bounds at final generalized Cauchy point\n",
      "Projg = norm of the final projected gradient\n",
      "F     = final function value\n",
      "\n",
      "           * * *\n",
      "\n",
      "   N    Tit     Tnf  Tnint  Skip  Nact     Projg        F\n",
      "    2      1      3      1     0     0   9.271D-06   7.768D+00\n",
      "  F =   7.7684296755465025     \n",
      "\n",
      "CONVERGENCE: NORM_OF_PROJECTED_GRADIENT_<=_PGTOL            \n",
      "Processing 0,2,1...\n",
      "RUNNING THE L-BFGS-B CODE\n",
      "\n",
      "           * * *\n",
      "\n",
      "Machine precision = 2.220D-16\n",
      " N =            2     M =           10\n",
      "\n",
      "At X0         0 variables are exactly at the bounds\n",
      "\n",
      "At iterate    0    f=  7.83496D+00    |proj g|=  6.05501D-02\n"
     ]
    },
    {
     "name": "stderr",
     "output_type": "stream",
     "text": [
      " This problem is unconstrained.\n",
      " This problem is unconstrained.\n",
      " This problem is unconstrained.\n",
      " This problem is unconstrained.\n"
     ]
    },
    {
     "name": "stdout",
     "output_type": "stream",
     "text": [
      "\n",
      "At iterate    5    f=  7.77855D+00    |proj g|=  1.77932D-03\n",
      "\n",
      "At iterate   10    f=  7.76609D+00    |proj g|=  1.69491D-04\n",
      "\n",
      "           * * *\n",
      "\n",
      "Tit   = total number of iterations\n",
      "Tnf   = total number of function evaluations\n",
      "Tnint = total number of segments explored during Cauchy searches\n",
      "Skip  = number of BFGS updates skipped\n",
      "Nact  = number of active bounds at final generalized Cauchy point\n",
      "Projg = norm of the final projected gradient\n",
      "F     = final function value\n",
      "\n",
      "           * * *\n",
      "\n",
      "   N    Tit     Tnf  Tnint  Skip  Nact     Projg        F\n",
      "    2     12     13      1     0     0   3.776D-06   7.763D+00\n",
      "  F =   7.7631614673863067     \n",
      "\n",
      "CONVERGENCE: NORM_OF_PROJECTED_GRADIENT_<=_PGTOL            \n",
      "Processing 0,1,2...\n",
      "RUNNING THE L-BFGS-B CODE\n",
      "\n",
      "           * * *\n",
      "\n",
      "Machine precision = 2.220D-16\n",
      " N =            3     M =           10\n",
      "\n",
      "At X0         0 variables are exactly at the bounds\n",
      "\n",
      "At iterate    0    f=  7.76838D+00    |proj g|=  1.47369D-04\n",
      "\n",
      "           * * *\n",
      "\n",
      "Tit   = total number of iterations\n",
      "Tnf   = total number of function evaluations\n",
      "Tnint = total number of segments explored during Cauchy searches\n",
      "Skip  = number of BFGS updates skipped\n",
      "Nact  = number of active bounds at final generalized Cauchy point\n",
      "Projg = norm of the final projected gradient\n",
      "F     = final function value\n",
      "\n",
      "           * * *\n",
      "\n",
      "   N    Tit     Tnf  Tnint  Skip  Nact     Projg        F\n",
      "    3      1      4      1     0     0   9.410D-06   7.768D+00\n",
      "  F =   7.7683786736974563     \n",
      "\n",
      "CONVERGENCE: NORM_OF_PROJECTED_GRADIENT_<=_PGTOL            \n",
      "Processing 0,2,2...\n"
     ]
    },
    {
     "name": "stderr",
     "output_type": "stream",
     "text": [
      " This problem is unconstrained.\n",
      " This problem is unconstrained.\n"
     ]
    },
    {
     "name": "stdout",
     "output_type": "stream",
     "text": [
      "RUNNING THE L-BFGS-B CODE\n",
      "\n",
      "           * * *\n",
      "\n",
      "Machine precision = 2.220D-16\n",
      " N =            3     M =           10\n",
      "\n",
      "At X0         0 variables are exactly at the bounds\n",
      "\n",
      "At iterate    0    f=  7.81552D+00    |proj g|=  3.74525D-02\n",
      "\n",
      "At iterate    5    f=  7.77518D+00    |proj g|=  3.02273D-03\n",
      "\n",
      "At iterate   10    f=  7.76854D+00    |proj g|=  7.54379D-04\n",
      "\n",
      "At iterate   15    f=  7.76314D+00    |proj g|=  9.77378D-06\n",
      "\n",
      "           * * *\n",
      "\n",
      "Tit   = total number of iterations\n",
      "Tnf   = total number of function evaluations\n",
      "Tnint = total number of segments explored during Cauchy searches\n",
      "Skip  = number of BFGS updates skipped\n",
      "Nact  = number of active bounds at final generalized Cauchy point\n",
      "Projg = norm of the final projected gradient\n",
      "F     = final function value\n",
      "\n",
      "           * * *\n",
      "\n",
      "   N    Tit     Tnf  Tnint  Skip  Nact     Projg        F\n",
      "    3     15     18      1     0     0   9.774D-06   7.763D+00\n",
      "  F =   7.7631381043128194     \n",
      "\n",
      "CONVERGENCE: NORM_OF_PROJECTED_GRADIENT_<=_PGTOL            \n",
      "Processing 0,1,3...\n",
      "RUNNING THE L-BFGS-B CODE\n",
      "\n",
      "           * * *\n",
      "\n",
      "Machine precision = 2.220D-16\n",
      " N =            4     M =           10\n",
      "\n",
      "At X0         0 variables are exactly at the bounds\n",
      "\n",
      "At iterate    0    f=  7.76848D+00    |proj g|=  1.38357D-02\n",
      "\n",
      "           * * *\n",
      "\n",
      "Tit   = total number of iterations\n",
      "Tnf   = total number of function evaluations\n",
      "Tnint = total number of segments explored during Cauchy searches\n",
      "Skip  = number of BFGS updates skipped\n",
      "Nact  = number of active bounds at final generalized Cauchy point\n",
      "Projg = norm of the final projected gradient\n",
      "F     = final function value\n",
      "\n",
      "           * * *\n",
      "\n",
      "   N    Tit     Tnf  Tnint  Skip  Nact     Projg        F\n",
      "    4      3      5      1     0     0   3.060D-07   7.768D+00\n",
      "  F =   7.7683705650962036     \n",
      "\n",
      "CONVERGENCE: NORM_OF_PROJECTED_GRADIENT_<=_PGTOL            \n",
      "Processing 0,2,3...\n"
     ]
    },
    {
     "name": "stderr",
     "output_type": "stream",
     "text": [
      " This problem is unconstrained.\n"
     ]
    },
    {
     "name": "stdout",
     "output_type": "stream",
     "text": [
      "RUNNING THE L-BFGS-B CODE\n",
      "\n",
      "           * * *\n",
      "\n",
      "Machine precision = 2.220D-16\n",
      " N =            4     M =           10\n",
      "\n",
      "At X0         0 variables are exactly at the bounds\n",
      "\n",
      "At iterate    0    f=  7.82887D+00    |proj g|=  4.74421D-02\n"
     ]
    },
    {
     "name": "stderr",
     "output_type": "stream",
     "text": [
      " This problem is unconstrained.\n"
     ]
    },
    {
     "name": "stdout",
     "output_type": "stream",
     "text": [
      "\n",
      "At iterate    5    f=  7.78887D+00    |proj g|=  1.89253D-02\n",
      "\n",
      "At iterate   10    f=  7.77398D+00    |proj g|=  1.59469D-03\n",
      "\n",
      "At iterate   15    f=  7.77249D+00    |proj g|=  3.46198D-03\n",
      "\n",
      "At iterate   20    f=  7.76309D+00    |proj g|=  1.15594D-03\n",
      "\n",
      "           * * *\n",
      "\n",
      "Tit   = total number of iterations\n",
      "Tnf   = total number of function evaluations\n",
      "Tnint = total number of segments explored during Cauchy searches\n",
      "Skip  = number of BFGS updates skipped\n",
      "Nact  = number of active bounds at final generalized Cauchy point\n",
      "Projg = norm of the final projected gradient\n",
      "F     = final function value\n",
      "\n",
      "           * * *\n",
      "\n",
      "   N    Tit     Tnf  Tnint  Skip  Nact     Projg        F\n",
      "    4     23     26      1     0     0   1.093D-05   7.763D+00\n",
      "  F =   7.7630743866437690     \n",
      "\n",
      "CONVERGENCE: REL_REDUCTION_OF_F_<=_FACTR*EPSMCH             \n",
      "Processing 1,1,0...\n",
      "RUNNING THE L-BFGS-B CODE\n",
      "\n",
      "           * * *\n",
      "\n",
      "Machine precision = 2.220D-16\n",
      " N =            2     M =           10\n",
      "\n",
      "At X0         0 variables are exactly at the bounds\n",
      "\n",
      "At iterate    0    f=  7.76842D+00    |proj g|=  2.38476D-06\n",
      "\n",
      "           * * *\n",
      "\n",
      "Tit   = total number of iterations\n",
      "Tnf   = total number of function evaluations\n",
      "Tnint = total number of segments explored during Cauchy searches\n",
      "Skip  = number of BFGS updates skipped\n",
      "Nact  = number of active bounds at final generalized Cauchy point\n",
      "Projg = norm of the final projected gradient\n",
      "F     = final function value\n",
      "\n",
      "           * * *\n",
      "\n",
      "   N    Tit     Tnf  Tnint  Skip  Nact     Projg        F\n",
      "    2      0      1      0     0     0   2.385D-06   7.768D+00\n",
      "  F =   7.7684227365892369     \n",
      "\n",
      "CONVERGENCE: NORM_OF_PROJECTED_GRADIENT_<=_PGTOL            \n"
     ]
    },
    {
     "name": "stderr",
     "output_type": "stream",
     "text": [
      " This problem is unconstrained.\n",
      " This problem is unconstrained.\n",
      " This problem is unconstrained.\n"
     ]
    },
    {
     "name": "stdout",
     "output_type": "stream",
     "text": [
      "Processing 1,2,0...\n",
      "RUNNING THE L-BFGS-B CODE\n",
      "\n",
      "           * * *\n",
      "\n",
      "Machine precision = 2.220D-16\n",
      " N =            2     M =           10\n",
      "\n",
      "At X0         0 variables are exactly at the bounds\n",
      "\n",
      "At iterate    0    f=  7.95445D+00    |proj g|=  8.90226D-04\n",
      "\n",
      "           * * *\n",
      "\n",
      "Tit   = total number of iterations\n",
      "Tnf   = total number of function evaluations\n",
      "Tnint = total number of segments explored during Cauchy searches\n",
      "Skip  = number of BFGS updates skipped\n",
      "Nact  = number of active bounds at final generalized Cauchy point\n",
      "Projg = norm of the final projected gradient\n",
      "F     = final function value\n",
      "\n",
      "           * * *\n",
      "\n",
      "   N    Tit     Tnf  Tnint  Skip  Nact     Projg        F\n",
      "    2      2      4      1     0     0   1.887D-06   7.954D+00\n",
      "  F =   7.9544515794968831     \n",
      "\n",
      "CONVERGENCE: NORM_OF_PROJECTED_GRADIENT_<=_PGTOL            \n",
      "Processing 1,1,1...\n",
      "RUNNING THE L-BFGS-B CODE\n",
      "\n",
      "           * * *\n",
      "\n",
      "Machine precision = 2.220D-16\n",
      " N =            3     M =           10\n",
      "\n",
      "At X0         0 variables are exactly at the bounds\n",
      "\n",
      "At iterate    0    f=  7.76842D+00    |proj g|=  1.30406D-03\n",
      "\n",
      "At iterate    5    f=  7.76842D+00    |proj g|=  6.02535D-04\n",
      "\n",
      "At iterate   10    f=  7.76842D+00    |proj g|=  9.79223D-05\n",
      "\n",
      "           * * *\n",
      "\n",
      "Tit   = total number of iterations\n",
      "Tnf   = total number of function evaluations\n",
      "Tnint = total number of segments explored during Cauchy searches\n",
      "Skip  = number of BFGS updates skipped\n",
      "Nact  = number of active bounds at final generalized Cauchy point\n",
      "Projg = norm of the final projected gradient\n",
      "F     = final function value\n",
      "\n",
      "           * * *\n",
      "\n",
      "   N    Tit     Tnf  Tnint  Skip  Nact     Projg        F\n",
      "    3     10     26      1     0     0   9.792D-05   7.768D+00\n",
      "  F =   7.7684174778397681     \n",
      "\n",
      "CONVERGENCE: REL_REDUCTION_OF_F_<=_FACTR*EPSMCH             \n",
      "Processing 1,2,1...\n",
      "RUNNING THE L-BFGS-B CODE\n",
      "\n",
      "           * * *\n",
      "\n",
      "Machine precision = 2.220D-16\n",
      " N =            3     M =           10\n",
      "\n",
      "At X0         0 variables are exactly at the bounds\n",
      "\n",
      "At iterate    0    f=  7.83661D+00    |proj g|=  8.71791D-02\n",
      "\n",
      "At iterate    5    f=  7.78620D+00    |proj g|=  1.07463D-02\n",
      "\n",
      "At iterate   10    f=  7.77479D+00    |proj g|=  3.13867D-04\n"
     ]
    },
    {
     "name": "stderr",
     "output_type": "stream",
     "text": [
      "\n",
      " Warning:  more than 10 function and gradient\n",
      "   evaluations in the last line search.  Termination\n",
      "   may possibly be caused by a bad search direction.\n",
      " This problem is unconstrained.\n"
     ]
    },
    {
     "name": "stdout",
     "output_type": "stream",
     "text": [
      "\n",
      "At iterate   15    f=  7.76318D+00    |proj g|=  1.87722D-03\n",
      "\n",
      "           * * *\n",
      "\n",
      "Tit   = total number of iterations\n",
      "Tnf   = total number of function evaluations\n",
      "Tnint = total number of segments explored during Cauchy searches\n",
      "Skip  = number of BFGS updates skipped\n",
      "Nact  = number of active bounds at final generalized Cauchy point\n",
      "Projg = norm of the final projected gradient\n",
      "F     = final function value\n",
      "\n",
      "           * * *\n",
      "\n",
      "   N    Tit     Tnf  Tnint  Skip  Nact     Projg        F\n",
      "    3     17     21      1     0     0   5.164D-06   7.763D+00\n",
      "  F =   7.7631365620403745     \n",
      "\n",
      "CONVERGENCE: NORM_OF_PROJECTED_GRADIENT_<=_PGTOL            \n",
      "Processing 1,1,2...\n",
      "RUNNING THE L-BFGS-B CODE\n",
      "\n",
      "           * * *\n",
      "\n",
      "Machine precision = 2.220D-16\n",
      " N =            4     M =           10\n",
      "\n",
      "At X0         0 variables are exactly at the bounds\n",
      "\n",
      "At iterate    0    f=  7.76844D+00    |proj g|=  5.12840D-03\n"
     ]
    },
    {
     "name": "stderr",
     "output_type": "stream",
     "text": [
      " This problem is unconstrained.\n"
     ]
    },
    {
     "name": "stdout",
     "output_type": "stream",
     "text": [
      "\n",
      "At iterate    5    f=  7.76842D+00    |proj g|=  3.58486D-04\n",
      "\n",
      "At iterate   10    f=  7.76840D+00    |proj g|=  3.34668D-03\n",
      "\n",
      "At iterate   15    f=  7.76838D+00    |proj g|=  9.20588D-06\n",
      "\n",
      "           * * *\n",
      "\n",
      "Tit   = total number of iterations\n",
      "Tnf   = total number of function evaluations\n",
      "Tnint = total number of segments explored during Cauchy searches\n",
      "Skip  = number of BFGS updates skipped\n",
      "Nact  = number of active bounds at final generalized Cauchy point\n",
      "Projg = norm of the final projected gradient\n",
      "F     = final function value\n",
      "\n",
      "           * * *\n",
      "\n",
      "   N    Tit     Tnf  Tnint  Skip  Nact     Projg        F\n",
      "    4     15     18      1     0     0   9.206D-06   7.768D+00\n",
      "  F =   7.7683782007582058     \n",
      "\n",
      "CONVERGENCE: NORM_OF_PROJECTED_GRADIENT_<=_PGTOL            \n",
      "Processing 1,2,2...\n",
      "RUNNING THE L-BFGS-B CODE\n",
      "\n",
      "           * * *\n",
      "\n",
      "Machine precision = 2.220D-16\n",
      " N =            4     M =           10\n",
      "\n",
      "At X0         0 variables are exactly at the bounds\n",
      "\n",
      "At iterate    0    f=  7.81824D+00    |proj g|=  7.71348D-02\n"
     ]
    },
    {
     "name": "stderr",
     "output_type": "stream",
     "text": [
      " This problem is unconstrained.\n"
     ]
    },
    {
     "name": "stdout",
     "output_type": "stream",
     "text": [
      "\n",
      "At iterate    5    f=  7.74420D+00    |proj g|=  7.36857D-03\n",
      "\n",
      "At iterate   10    f=  7.73971D+00    |proj g|=  9.84520D-04\n",
      "\n",
      "At iterate   15    f=  7.72983D+00    |proj g|=  4.68136D-04\n",
      "\n",
      "           * * *\n",
      "\n",
      "Tit   = total number of iterations\n",
      "Tnf   = total number of function evaluations\n",
      "Tnint = total number of segments explored during Cauchy searches\n",
      "Skip  = number of BFGS updates skipped\n",
      "Nact  = number of active bounds at final generalized Cauchy point\n",
      "Projg = norm of the final projected gradient\n",
      "F     = final function value\n",
      "\n",
      "           * * *\n",
      "\n",
      "   N    Tit     Tnf  Tnint  Skip  Nact     Projg        F\n",
      "    4     18     22      1     0     0   1.044D-06   7.730D+00\n",
      "  F =   7.7298160294137892     \n",
      "\n",
      "CONVERGENCE: NORM_OF_PROJECTED_GRADIENT_<=_PGTOL            \n",
      "Processing 1,1,3...\n",
      "RUNNING THE L-BFGS-B CODE\n",
      "\n",
      "           * * *\n",
      "\n",
      "Machine precision = 2.220D-16\n",
      " N =            5     M =           10\n",
      "\n",
      "At X0         0 variables are exactly at the bounds\n",
      "\n",
      "At iterate    0    f=  7.76843D+00    |proj g|=  1.00078D-02\n"
     ]
    },
    {
     "name": "stderr",
     "output_type": "stream",
     "text": [
      " This problem is unconstrained.\n"
     ]
    },
    {
     "name": "stdout",
     "output_type": "stream",
     "text": [
      "\n",
      "           * * *\n",
      "\n",
      "Tit   = total number of iterations\n",
      "Tnf   = total number of function evaluations\n",
      "Tnint = total number of segments explored during Cauchy searches\n",
      "Skip  = number of BFGS updates skipped\n",
      "Nact  = number of active bounds at final generalized Cauchy point\n",
      "Projg = norm of the final projected gradient\n",
      "F     = final function value\n",
      "\n",
      "           * * *\n",
      "\n",
      "   N    Tit     Tnf  Tnint  Skip  Nact     Projg        F\n",
      "    5      4      6      1     0     0   1.680D-05   7.768D+00\n",
      "  F =   7.7683713146245488     \n",
      "\n",
      "CONVERGENCE: REL_REDUCTION_OF_F_<=_FACTR*EPSMCH             \n",
      "Processing 1,2,3...\n",
      "RUNNING THE L-BFGS-B CODE\n",
      "\n",
      "           * * *\n",
      "\n",
      "Machine precision = 2.220D-16\n",
      " N =            5     M =           10\n",
      "\n",
      "At X0         0 variables are exactly at the bounds\n",
      "\n",
      "At iterate    0    f=  8.19079D+00    |proj g|=  8.65149D-01\n"
     ]
    },
    {
     "name": "stderr",
     "output_type": "stream",
     "text": [
      " This problem is unconstrained.\n"
     ]
    },
    {
     "name": "stdout",
     "output_type": "stream",
     "text": [
      "\n",
      "At iterate    5    f=  7.78431D+00    |proj g|=  3.81320D-02\n",
      "\n",
      "At iterate   10    f=  7.75293D+00    |proj g|=  1.69393D-02\n",
      "\n",
      "At iterate   15    f=  7.73826D+00    |proj g|=  2.15258D-02\n",
      "\n",
      "At iterate   20    f=  7.73686D+00    |proj g|=  4.05894D-03\n",
      "\n",
      "At iterate   25    f=  7.72789D+00    |proj g|=  6.72191D-04\n",
      "\n",
      "           * * *\n",
      "\n",
      "Tit   = total number of iterations\n",
      "Tnf   = total number of function evaluations\n",
      "Tnint = total number of segments explored during Cauchy searches\n",
      "Skip  = number of BFGS updates skipped\n",
      "Nact  = number of active bounds at final generalized Cauchy point\n",
      "Projg = norm of the final projected gradient\n",
      "F     = final function value\n",
      "\n",
      "           * * *\n",
      "\n",
      "   N    Tit     Tnf  Tnint  Skip  Nact     Projg        F\n",
      "    5     27     33      1     0     0   1.249D-05   7.728D+00\n",
      "  F =   7.7278938044308036     \n",
      "\n",
      "CONVERGENCE: REL_REDUCTION_OF_F_<=_FACTR*EPSMCH             \n",
      "Processing 2,1,0...\n",
      "RUNNING THE L-BFGS-B CODE\n",
      "\n",
      "           * * *\n",
      "\n",
      "Machine precision = 2.220D-16\n",
      " N =            3     M =           10\n",
      "\n",
      "At X0         0 variables are exactly at the bounds\n",
      "\n",
      "At iterate    0    f=  7.76837D+00    |proj g|=  2.88786D-05\n",
      "\n",
      "           * * *\n",
      "\n",
      "Tit   = total number of iterations\n",
      "Tnf   = total number of function evaluations\n",
      "Tnint = total number of segments explored during Cauchy searches\n",
      "Skip  = number of BFGS updates skipped\n",
      "Nact  = number of active bounds at final generalized Cauchy point\n",
      "Projg = norm of the final projected gradient\n",
      "F     = final function value\n",
      "\n",
      "           * * *\n",
      "\n",
      "   N    Tit     Tnf  Tnint  Skip  Nact     Projg        F\n",
      "    3      1      3      1     0     0   4.643D-06   7.768D+00\n",
      "  F =   7.7683735729881045     \n",
      "\n",
      "CONVERGENCE: NORM_OF_PROJECTED_GRADIENT_<=_PGTOL            \n",
      "Processing 2,2,0...\n",
      "RUNNING THE L-BFGS-B CODE\n",
      "\n",
      "           * * *\n",
      "\n",
      "Machine precision = 2.220D-16\n",
      " N =            3     M =           10\n",
      "\n",
      "At X0         0 variables are exactly at the bounds\n",
      "\n",
      "At iterate    0    f=  7.89824D+00    |proj g|=  9.24037D-04\n"
     ]
    },
    {
     "name": "stderr",
     "output_type": "stream",
     "text": [
      " This problem is unconstrained.\n",
      " This problem is unconstrained.\n"
     ]
    },
    {
     "name": "stdout",
     "output_type": "stream",
     "text": [
      "\n",
      "           * * *\n",
      "\n",
      "Tit   = total number of iterations\n",
      "Tnf   = total number of function evaluations\n",
      "Tnint = total number of segments explored during Cauchy searches\n",
      "Skip  = number of BFGS updates skipped\n",
      "Nact  = number of active bounds at final generalized Cauchy point\n",
      "Projg = norm of the final projected gradient\n",
      "F     = final function value\n",
      "\n",
      "           * * *\n",
      "\n",
      "   N    Tit     Tnf  Tnint  Skip  Nact     Projg        F\n",
      "    3      3      5      1     0     0   3.878D-06   7.898D+00\n",
      "  F =   7.8982404292045238     \n",
      "\n",
      "CONVERGENCE: NORM_OF_PROJECTED_GRADIENT_<=_PGTOL            \n",
      "Processing 2,1,1...\n",
      "RUNNING THE L-BFGS-B CODE\n",
      "\n",
      "           * * *\n",
      "\n",
      "Machine precision = 2.220D-16\n",
      " N =            4     M =           10\n",
      "\n",
      "At X0         0 variables are exactly at the bounds\n",
      "\n",
      "At iterate    0    f=  7.76838D+00    |proj g|=  9.15576D-05\n",
      "\n",
      "           * * *\n",
      "\n",
      "Tit   = total number of iterations\n",
      "Tnf   = total number of function evaluations\n",
      "Tnint = total number of segments explored during Cauchy searches\n",
      "Skip  = number of BFGS updates skipped\n",
      "Nact  = number of active bounds at final generalized Cauchy point\n",
      "Projg = norm of the final projected gradient\n",
      "F     = final function value\n",
      "\n",
      "           * * *\n",
      "\n",
      "   N    Tit     Tnf  Tnint  Skip  Nact     Projg        F\n",
      "    4      1      3      1     0     0   9.847D-06   7.768D+00\n",
      "  F =   7.7683791968758014     \n",
      "\n",
      "CONVERGENCE: NORM_OF_PROJECTED_GRADIENT_<=_PGTOL            \n",
      "Processing 2,2,1...\n",
      "RUNNING THE L-BFGS-B CODE\n",
      "\n",
      "           * * *\n",
      "\n",
      "Machine precision = 2.220D-16\n",
      " N =            4     M =           10\n",
      "\n",
      "At X0         0 variables are exactly at the bounds\n",
      "\n",
      "At iterate    0    f=  7.83630D+00    |proj g|=  8.79632D-02\n",
      "\n",
      "At iterate    5    f=  7.79214D+00    |proj g|=  4.51163D-02\n"
     ]
    },
    {
     "name": "stderr",
     "output_type": "stream",
     "text": [
      " This problem is unconstrained.\n",
      " This problem is unconstrained.\n"
     ]
    },
    {
     "name": "stdout",
     "output_type": "stream",
     "text": [
      "\n",
      "At iterate   10    f=  7.77637D+00    |proj g|=  4.37046D-03\n",
      "\n",
      "At iterate   15    f=  7.77470D+00    |proj g|=  4.94912D-04\n",
      "\n",
      "At iterate   20    f=  7.77360D+00    |proj g|=  2.35513D-02\n",
      "\n",
      "At iterate   25    f=  7.76307D+00    |proj g|=  2.31438D-04\n",
      "\n",
      "           * * *\n",
      "\n",
      "Tit   = total number of iterations\n",
      "Tnf   = total number of function evaluations\n",
      "Tnint = total number of segments explored during Cauchy searches\n",
      "Skip  = number of BFGS updates skipped\n",
      "Nact  = number of active bounds at final generalized Cauchy point\n",
      "Projg = norm of the final projected gradient\n",
      "F     = final function value\n",
      "\n",
      "           * * *\n",
      "\n",
      "   N    Tit     Tnf  Tnint  Skip  Nact     Projg        F\n",
      "    4     28     34      1     0     0   7.231D-07   7.763D+00\n",
      "  F =   7.7630745367346918     \n",
      "\n",
      "CONVERGENCE: NORM_OF_PROJECTED_GRADIENT_<=_PGTOL            \n",
      "Processing 2,1,2...\n"
     ]
    },
    {
     "name": "stderr",
     "output_type": "stream",
     "text": [
      " This problem is unconstrained.\n"
     ]
    },
    {
     "name": "stdout",
     "output_type": "stream",
     "text": [
      "RUNNING THE L-BFGS-B CODE\n",
      "\n",
      "           * * *\n",
      "\n",
      "Machine precision = 2.220D-16\n",
      " N =            5     M =           10\n",
      "\n",
      "At X0         0 variables are exactly at the bounds\n",
      "\n",
      "At iterate    0    f=  7.77092D+00    |proj g|=  5.46368D-02\n",
      "\n",
      "At iterate    5    f=  7.71737D+00    |proj g|=  2.57072D-02\n",
      "\n",
      "At iterate   10    f=  7.69426D+00    |proj g|=  3.36985D-03\n",
      "\n",
      "At iterate   15    f=  7.69300D+00    |proj g|=  2.66203D-03\n",
      "\n",
      "At iterate   20    f=  7.69212D+00    |proj g|=  1.79057D-02\n",
      "\n",
      "At iterate   25    f=  7.68668D+00    |proj g|=  2.89535D-05\n",
      "\n",
      "           * * *\n",
      "\n",
      "Tit   = total number of iterations\n",
      "Tnf   = total number of function evaluations\n",
      "Tnint = total number of segments explored during Cauchy searches\n",
      "Skip  = number of BFGS updates skipped\n",
      "Nact  = number of active bounds at final generalized Cauchy point\n",
      "Projg = norm of the final projected gradient\n",
      "F     = final function value\n",
      "\n",
      "           * * *\n",
      "\n",
      "   N    Tit     Tnf  Tnint  Skip  Nact     Projg        F\n",
      "    5     26     33      1     0     0   1.785D-06   7.687D+00\n",
      "  F =   7.6866789375772955     \n",
      "\n",
      "CONVERGENCE: NORM_OF_PROJECTED_GRADIENT_<=_PGTOL            \n",
      "Processing 2,2,2...\n",
      "RUNNING THE L-BFGS-B CODE\n",
      "\n",
      "           * * *\n",
      "\n",
      "Machine precision = 2.220D-16\n",
      " N =            5     M =           10\n",
      "\n",
      "At X0         0 variables are exactly at the bounds\n",
      "\n",
      "At iterate    0    f=  7.81870D+00    |proj g|=  8.91094D-02\n",
      "\n",
      "At iterate    5    f=  7.74635D+00    |proj g|=  7.33474D-03\n"
     ]
    },
    {
     "name": "stderr",
     "output_type": "stream",
     "text": [
      " This problem is unconstrained.\n"
     ]
    },
    {
     "name": "stdout",
     "output_type": "stream",
     "text": [
      "\n",
      "At iterate   10    f=  7.73828D+00    |proj g|=  3.79732D-04\n",
      "\n",
      "At iterate   15    f=  7.73800D+00    |proj g|=  3.19553D-04\n",
      "\n",
      "At iterate   20    f=  7.73154D+00    |proj g|=  7.19470D-02\n",
      "\n",
      "At iterate   25    f=  7.72750D+00    |proj g|=  5.05379D-05\n",
      "\n",
      "           * * *\n",
      "\n",
      "Tit   = total number of iterations\n",
      "Tnf   = total number of function evaluations\n",
      "Tnint = total number of segments explored during Cauchy searches\n",
      "Skip  = number of BFGS updates skipped\n",
      "Nact  = number of active bounds at final generalized Cauchy point\n",
      "Projg = norm of the final projected gradient\n",
      "F     = final function value\n",
      "\n",
      "           * * *\n",
      "\n",
      "   N    Tit     Tnf  Tnint  Skip  Nact     Projg        F\n",
      "    5     26     29      1     0     0   9.356D-07   7.727D+00\n",
      "  F =   7.7274982007722173     \n",
      "\n",
      "CONVERGENCE: NORM_OF_PROJECTED_GRADIENT_<=_PGTOL            \n",
      "Processing 2,1,3...\n",
      "RUNNING THE L-BFGS-B CODE\n",
      "\n",
      "           * * *\n",
      "\n",
      "Machine precision = 2.220D-16\n",
      " N =            6     M =           10\n",
      "\n",
      "At X0         0 variables are exactly at the bounds\n",
      "\n",
      "At iterate    0    f=  7.77970D+00    |proj g|=  1.22765D-02\n"
     ]
    },
    {
     "name": "stderr",
     "output_type": "stream",
     "text": [
      " This problem is unconstrained.\n"
     ]
    },
    {
     "name": "stdout",
     "output_type": "stream",
     "text": [
      "\n",
      "At iterate    5    f=  7.77962D+00    |proj g|=  9.78026D-04\n",
      "\n",
      "At iterate   10    f=  7.77946D+00    |proj g|=  1.94812D-02\n",
      "\n",
      "At iterate   15    f=  7.72693D+00    |proj g|=  1.43296D-01\n",
      "\n",
      "At iterate   20    f=  7.71557D+00    |proj g|=  3.49063D-03\n",
      "\n",
      "At iterate   25    f=  7.71500D+00    |proj g|=  2.87657D-02\n",
      "\n",
      "At iterate   30    f=  7.71354D+00    |proj g|=  1.21194D-01\n",
      "\n",
      "At iterate   35    f=  7.71255D+00    |proj g|=  1.15720D-02\n",
      "\n",
      "At iterate   40    f=  7.71233D+00    |proj g|=  2.33468D-03\n",
      "\n",
      "At iterate   45    f=  7.71231D+00    |proj g|=  3.37541D-03\n",
      "\n",
      "At iterate   50    f=  7.71165D+00    |proj g|=  2.29541D-02\n",
      "\n",
      "           * * *\n",
      "\n",
      "Tit   = total number of iterations\n",
      "Tnf   = total number of function evaluations\n",
      "Tnint = total number of segments explored during Cauchy searches\n",
      "Skip  = number of BFGS updates skipped\n",
      "Nact  = number of active bounds at final generalized Cauchy point\n",
      "Projg = norm of the final projected gradient\n",
      "F     = final function value\n",
      "\n",
      "           * * *\n",
      "\n",
      "   N    Tit     Tnf  Tnint  Skip  Nact     Projg        F\n",
      "    6     50     71      1     0     0   2.295D-02   7.712D+00\n",
      "  F =   7.7116451319888553     \n",
      "\n",
      "STOP: TOTAL NO. of ITERATIONS REACHED LIMIT                 \n",
      "Processing 2,2,3...\n",
      "RUNNING THE L-BFGS-B CODE\n",
      "\n",
      "           * * *\n",
      "\n",
      "Machine precision = 2.220D-16\n",
      " N =            6     M =           10\n",
      "\n",
      "At X0         0 variables are exactly at the bounds\n",
      "\n",
      "At iterate    0    f=  8.20437D+00    |proj g|=  8.96344D-01\n"
     ]
    },
    {
     "name": "stderr",
     "output_type": "stream",
     "text": [
      " This problem is unconstrained.\n"
     ]
    },
    {
     "name": "stdout",
     "output_type": "stream",
     "text": [
      "\n",
      "At iterate    5    f=  7.78360D+00    |proj g|=  7.19723D-02\n",
      "\n",
      "At iterate   10    f=  7.76386D+00    |proj g|=  1.59035D-02\n",
      "\n",
      "At iterate   15    f=  7.73638D+00    |proj g|=  1.81817D-02\n",
      "\n",
      "At iterate   20    f=  7.72172D+00    |proj g|=  8.67641D-02\n",
      "\n",
      "At iterate   25    f=  7.71897D+00    |proj g|=  1.07045D-02\n",
      "\n",
      "At iterate   30    f=  7.71895D+00    |proj g|=  1.50647D-03\n",
      "\n",
      "At iterate   35    f=  7.71884D+00    |proj g|=  1.65962D-02\n",
      "\n",
      "At iterate   40    f=  7.71041D+00    |proj g|=  6.92574D-01\n",
      "\n",
      "At iterate   45    f=  7.70910D+00    |proj g|=  2.79854D-01\n",
      "\n",
      "           * * *\n",
      "\n",
      "Tit   = total number of iterations\n",
      "Tnf   = total number of function evaluations\n",
      "Tnint = total number of segments explored during Cauchy searches\n",
      "Skip  = number of BFGS updates skipped\n",
      "Nact  = number of active bounds at final generalized Cauchy point\n",
      "Projg = norm of the final projected gradient\n",
      "F     = final function value\n",
      "\n",
      "           * * *\n",
      "\n",
      "   N    Tit     Tnf  Tnint  Skip  Nact     Projg        F\n",
      "    6     49     62      1     0     0   7.697D-04   7.709D+00\n",
      "  F =   7.7088822085809525     \n",
      "\n",
      "CONVERGENCE: REL_REDUCTION_OF_F_<=_FACTR*EPSMCH             \n",
      "Processing 3,1,0...\n",
      "RUNNING THE L-BFGS-B CODE\n",
      "\n",
      "           * * *\n",
      "\n",
      "Machine precision = 2.220D-16\n",
      " N =            4     M =           10\n",
      "\n",
      "At X0         0 variables are exactly at the bounds\n",
      "\n",
      "At iterate    0    f=  7.76838D+00    |proj g|=  3.86247D-05\n"
     ]
    },
    {
     "name": "stderr",
     "output_type": "stream",
     "text": [
      " This problem is unconstrained.\n"
     ]
    },
    {
     "name": "stdout",
     "output_type": "stream",
     "text": [
      "\n",
      "           * * *\n",
      "\n",
      "Tit   = total number of iterations\n",
      "Tnf   = total number of function evaluations\n",
      "Tnint = total number of segments explored during Cauchy searches\n",
      "Skip  = number of BFGS updates skipped\n",
      "Nact  = number of active bounds at final generalized Cauchy point\n",
      "Projg = norm of the final projected gradient\n",
      "F     = final function value\n",
      "\n",
      "           * * *\n",
      "\n",
      "   N    Tit     Tnf  Tnint  Skip  Nact     Projg        F\n",
      "    4      1      3      1     0     0   6.957D-06   7.768D+00\n",
      "  F =   7.7683754142424837     \n",
      "\n",
      "CONVERGENCE: NORM_OF_PROJECTED_GRADIENT_<=_PGTOL            \n",
      "Processing 3,2,0...\n",
      "RUNNING THE L-BFGS-B CODE\n",
      "\n",
      "           * * *\n",
      "\n",
      "Machine precision = 2.220D-16\n",
      " N =            4     M =           10\n",
      "\n",
      "At X0         0 variables are exactly at the bounds\n",
      "\n",
      "At iterate    0    f=  7.86849D+00    |proj g|=  9.78402D-04\n"
     ]
    },
    {
     "name": "stderr",
     "output_type": "stream",
     "text": [
      " This problem is unconstrained.\n"
     ]
    },
    {
     "name": "stdout",
     "output_type": "stream",
     "text": [
      "\n",
      "           * * *\n",
      "\n",
      "Tit   = total number of iterations\n",
      "Tnf   = total number of function evaluations\n",
      "Tnint = total number of segments explored during Cauchy searches\n",
      "Skip  = number of BFGS updates skipped\n",
      "Nact  = number of active bounds at final generalized Cauchy point\n",
      "Projg = norm of the final projected gradient\n",
      "F     = final function value\n",
      "\n",
      "           * * *\n",
      "\n",
      "   N    Tit     Tnf  Tnint  Skip  Nact     Projg        F\n",
      "    4      3      5      1     0     0   8.114D-06   7.868D+00\n",
      "  F =   7.8684867131090162     \n",
      "\n",
      "CONVERGENCE: NORM_OF_PROJECTED_GRADIENT_<=_PGTOL            \n",
      "Processing 3,1,1...\n",
      "RUNNING THE L-BFGS-B CODE\n",
      "\n",
      "           * * *\n",
      "\n",
      "Machine precision = 2.220D-16\n",
      " N =            5     M =           10\n",
      "\n",
      "At X0         0 variables are exactly at the bounds\n",
      "\n",
      "At iterate    0    f=  7.76838D+00    |proj g|=  2.92870D-05\n",
      "\n",
      "           * * *\n",
      "\n",
      "Tit   = total number of iterations\n",
      "Tnf   = total number of function evaluations\n",
      "Tnint = total number of segments explored during Cauchy searches\n",
      "Skip  = number of BFGS updates skipped\n",
      "Nact  = number of active bounds at final generalized Cauchy point\n",
      "Projg = norm of the final projected gradient\n",
      "F     = final function value\n",
      "\n",
      "           * * *\n",
      "\n",
      "   N    Tit     Tnf  Tnint  Skip  Nact     Projg        F\n",
      "    5      1      3      1     0     0   9.271D-06   7.768D+00\n",
      "  F =   7.7683785853273255     \n",
      "\n",
      "CONVERGENCE: NORM_OF_PROJECTED_GRADIENT_<=_PGTOL            \n",
      "Processing 3,2,1...\n",
      "RUNNING THE L-BFGS-B CODE\n",
      "\n",
      "           * * *\n",
      "\n",
      "Machine precision = 2.220D-16\n",
      " N =            5     M =           10\n",
      "\n",
      "At X0         0 variables are exactly at the bounds\n",
      "\n",
      "At iterate    0    f=  7.84911D+00    |proj g|=  7.94450D-02\n"
     ]
    },
    {
     "name": "stderr",
     "output_type": "stream",
     "text": [
      " This problem is unconstrained.\n",
      " This problem is unconstrained.\n"
     ]
    },
    {
     "name": "stdout",
     "output_type": "stream",
     "text": [
      "\n",
      "At iterate    5    f=  7.82685D+00    |proj g|=  9.89687D-02\n",
      "\n",
      "At iterate   10    f=  7.78932D+00    |proj g|=  5.77964D-02\n",
      "\n",
      "At iterate   15    f=  7.77564D+00    |proj g|=  3.01334D-03\n",
      "\n",
      "At iterate   20    f=  7.77465D+00    |proj g|=  1.83672D-03\n",
      "\n",
      "At iterate   25    f=  7.77340D+00    |proj g|=  3.41273D-02\n",
      "\n",
      "At iterate   30    f=  7.76307D+00    |proj g|=  1.06354D-04\n",
      "\n",
      "           * * *\n",
      "\n",
      "Tit   = total number of iterations\n",
      "Tnf   = total number of function evaluations\n",
      "Tnint = total number of segments explored during Cauchy searches\n",
      "Skip  = number of BFGS updates skipped\n",
      "Nact  = number of active bounds at final generalized Cauchy point\n",
      "Projg = norm of the final projected gradient\n",
      "F     = final function value\n",
      "\n",
      "           * * *\n",
      "\n",
      "   N    Tit     Tnf  Tnint  Skip  Nact     Projg        F\n",
      "    5     32     39      1     0     0   5.100D-06   7.763D+00\n",
      "  F =   7.7630719606654788     \n",
      "\n",
      "CONVERGENCE: NORM_OF_PROJECTED_GRADIENT_<=_PGTOL            \n",
      "Processing 3,1,2...\n",
      "RUNNING THE L-BFGS-B CODE\n",
      "\n",
      "           * * *\n",
      "\n",
      "Machine precision = 2.220D-16\n",
      " N =            6     M =           10\n",
      "\n",
      "At X0         0 variables are exactly at the bounds\n",
      "\n",
      "At iterate    0    f=  7.76844D+00    |proj g|=  1.00562D-02\n",
      "\n",
      "           * * *\n",
      "\n",
      "Tit   = total number of iterations\n",
      "Tnf   = total number of function evaluations\n",
      "Tnint = total number of segments explored during Cauchy searches\n",
      "Skip  = number of BFGS updates skipped\n",
      "Nact  = number of active bounds at final generalized Cauchy point\n",
      "Projg = norm of the final projected gradient\n",
      "F     = final function value\n",
      "\n",
      "           * * *\n",
      "\n",
      "   N    Tit     Tnf  Tnint  Skip  Nact     Projg        F\n",
      "    6      4      6      1     0     0   2.976D-05   7.768D+00\n",
      "  F =   7.7683787469982066     \n",
      "\n",
      "CONVERGENCE: REL_REDUCTION_OF_F_<=_FACTR*EPSMCH             \n",
      "Processing 3,2,2...\n",
      "RUNNING THE L-BFGS-B CODE\n",
      "\n",
      "           * * *\n",
      "\n",
      "Machine precision = 2.220D-16\n",
      " N =            6     M =           10\n",
      "\n",
      "At X0         0 variables are exactly at the bounds\n",
      "\n",
      "At iterate    0    f=  7.81942D+00    |proj g|=  8.95793D-02\n"
     ]
    },
    {
     "name": "stderr",
     "output_type": "stream",
     "text": [
      " This problem is unconstrained.\n",
      " This problem is unconstrained.\n"
     ]
    },
    {
     "name": "stdout",
     "output_type": "stream",
     "text": [
      "\n",
      "At iterate    5    f=  7.74597D+00    |proj g|=  4.25401D-02\n",
      "\n",
      "At iterate   10    f=  7.73471D+00    |proj g|=  9.01843D-04\n",
      "\n",
      "At iterate   15    f=  7.73444D+00    |proj g|=  3.21435D-04\n",
      "\n",
      "At iterate   20    f=  7.72574D+00    |proj g|=  2.16403D-02\n",
      "\n",
      "At iterate   25    f=  7.72334D+00    |proj g|=  1.12903D-04\n",
      "\n",
      "           * * *\n",
      "\n",
      "Tit   = total number of iterations\n",
      "Tnf   = total number of function evaluations\n",
      "Tnint = total number of segments explored during Cauchy searches\n",
      "Skip  = number of BFGS updates skipped\n",
      "Nact  = number of active bounds at final generalized Cauchy point\n",
      "Projg = norm of the final projected gradient\n",
      "F     = final function value\n",
      "\n",
      "           * * *\n",
      "\n",
      "   N    Tit     Tnf  Tnint  Skip  Nact     Projg        F\n",
      "    6     26     32      1     0     0   5.792D-06   7.723D+00\n",
      "  F =   7.7233411404659718     \n",
      "\n",
      "CONVERGENCE: NORM_OF_PROJECTED_GRADIENT_<=_PGTOL            \n",
      "Processing 3,1,3...\n",
      "RUNNING THE L-BFGS-B CODE\n",
      "\n",
      "           * * *\n",
      "\n",
      "Machine precision = 2.220D-16\n",
      " N =            7     M =           10\n",
      "\n",
      "At X0         0 variables are exactly at the bounds\n",
      "\n",
      "At iterate    0    f=  7.77970D+00    |proj g|=  1.22772D-02\n"
     ]
    },
    {
     "name": "stderr",
     "output_type": "stream",
     "text": [
      " This problem is unconstrained.\n"
     ]
    },
    {
     "name": "stdout",
     "output_type": "stream",
     "text": [
      "\n",
      "At iterate    5    f=  7.77960D+00    |proj g|=  4.42074D-03\n",
      "  ys=-1.662E-02  -gs= 2.345E-03 BFGS update SKIPPED\n",
      "\n",
      "At iterate   10    f=  7.74954D+00    |proj g|=  2.81207D-01\n",
      "\n",
      "At iterate   15    f=  7.72075D+00    |proj g|=  3.72287D-02\n",
      "\n",
      "At iterate   20    f=  7.71497D+00    |proj g|=  6.68541D-01\n",
      "\n",
      "At iterate   25    f=  7.71368D+00    |proj g|=  2.87963D-01\n",
      "\n",
      "At iterate   30    f=  7.71337D+00    |proj g|=  3.19091D-01\n",
      "\n",
      "At iterate   35    f=  7.71328D+00    |proj g|=  7.33607D-02\n",
      "\n",
      "           * * *\n",
      "\n",
      "Tit   = total number of iterations\n",
      "Tnf   = total number of function evaluations\n",
      "Tnint = total number of segments explored during Cauchy searches\n",
      "Skip  = number of BFGS updates skipped\n",
      "Nact  = number of active bounds at final generalized Cauchy point\n",
      "Projg = norm of the final projected gradient\n",
      "F     = final function value\n",
      "\n",
      "           * * *\n",
      "\n",
      "   N    Tit     Tnf  Tnint  Skip  Nact     Projg        F\n",
      "    7     38     69      1     1     0   6.939D-02   7.713D+00\n",
      "  F =   7.7132805757378975     \n",
      "\n",
      "CONVERGENCE: REL_REDUCTION_OF_F_<=_FACTR*EPSMCH             \n",
      "Processing 3,2,3...\n",
      "RUNNING THE L-BFGS-B CODE\n",
      "\n",
      "           * * *\n",
      "\n",
      "Machine precision = 2.220D-16\n",
      " N =            7     M =           10\n",
      "\n",
      "At X0         0 variables are exactly at the bounds\n",
      "\n",
      "At iterate    0    f=  8.20939D+00    |proj g|=  9.07519D-01\n"
     ]
    },
    {
     "name": "stderr",
     "output_type": "stream",
     "text": [
      " This problem is unconstrained.\n"
     ]
    },
    {
     "name": "stdout",
     "output_type": "stream",
     "text": [
      "\n",
      "At iterate    5    f=  7.80159D+00    |proj g|=  5.85135D-02\n",
      "\n",
      "At iterate   10    f=  7.76417D+00    |proj g|=  3.14040D-02\n",
      "\n",
      "At iterate   15    f=  7.74638D+00    |proj g|=  6.90590D-02\n",
      "\n",
      "At iterate   20    f=  7.71739D+00    |proj g|=  2.49898D-02\n",
      "\n",
      "At iterate   25    f=  7.71165D+00    |proj g|=  1.61653D-02\n",
      "\n",
      "At iterate   30    f=  7.71152D+00    |proj g|=  3.14755D-04\n",
      "\n",
      "           * * *\n",
      "\n",
      "Tit   = total number of iterations\n",
      "Tnf   = total number of function evaluations\n",
      "Tnint = total number of segments explored during Cauchy searches\n",
      "Skip  = number of BFGS updates skipped\n",
      "Nact  = number of active bounds at final generalized Cauchy point\n",
      "Projg = norm of the final projected gradient\n",
      "F     = final function value\n",
      "\n",
      "           * * *\n",
      "\n",
      "   N    Tit     Tnf  Tnint  Skip  Nact     Projg        F\n",
      "    7     30     37      1     0     0   3.148D-04   7.712D+00\n",
      "  F =   7.7115192205767737     \n",
      "\n",
      "CONVERGENCE: REL_REDUCTION_OF_F_<=_FACTR*EPSMCH             \n"
     ]
    }
   ],
   "source": [
    "#3\n",
    "from statsmodels.tsa.statespace.sarimax import SARIMAX\n",
    "\n",
    "series = demand_data_analysis.price.reset_index(drop=True)\n",
    "\n",
    "order_aic_bic=[]\n",
    "\n",
    "for p in range(4):\n",
    "    for q in range(4):\n",
    "        for d in range(1,3):\n",
    "            print('Processing {},{},{}...'.format(p,d,q))\n",
    "            \n",
    "            model = SARIMAX(series, order=(p,d,q),exogenous = demand_data_analysis['exo'])\n",
    "            results = model.fit()\n",
    "\n",
    "            order_aic_bic.append((p, d, q, results.aic, results.bic))\n",
    "\n",
    "\n",
    "order_df = pd.DataFrame(order_aic_bic, columns=['p', 'd', 'q', 'AIC', 'BIC'])"
   ]
  },
  {
   "cell_type": "code",
   "execution_count": 12,
   "metadata": {},
   "outputs": [
    {
     "data": {
      "text/html": [
       "<div>\n",
       "<style scoped>\n",
       "    .dataframe tbody tr th:only-of-type {\n",
       "        vertical-align: middle;\n",
       "    }\n",
       "\n",
       "    .dataframe tbody tr th {\n",
       "        vertical-align: top;\n",
       "    }\n",
       "\n",
       "    .dataframe thead th {\n",
       "        text-align: right;\n",
       "    }\n",
       "</style>\n",
       "<table border=\"1\" class=\"dataframe\">\n",
       "  <thead>\n",
       "    <tr style=\"text-align: right;\">\n",
       "      <th></th>\n",
       "      <th>p</th>\n",
       "      <th>d</th>\n",
       "      <th>q</th>\n",
       "      <th>AIC</th>\n",
       "      <th>BIC</th>\n",
       "    </tr>\n",
       "  </thead>\n",
       "  <tbody>\n",
       "    <tr>\n",
       "      <th>20</th>\n",
       "      <td>2</td>\n",
       "      <td>1</td>\n",
       "      <td>2</td>\n",
       "      <td>11447.778259</td>\n",
       "      <td>11470.831739</td>\n",
       "    </tr>\n",
       "    <tr>\n",
       "      <th>23</th>\n",
       "      <td>2</td>\n",
       "      <td>2</td>\n",
       "      <td>3</td>\n",
       "      <td>11482.816726</td>\n",
       "      <td>11510.472822</td>\n",
       "    </tr>\n",
       "    <tr>\n",
       "      <th>22</th>\n",
       "      <td>2</td>\n",
       "      <td>1</td>\n",
       "      <td>3</td>\n",
       "      <td>11486.927956</td>\n",
       "      <td>11514.592133</td>\n",
       "    </tr>\n",
       "    <tr>\n",
       "      <th>31</th>\n",
       "      <td>3</td>\n",
       "      <td>2</td>\n",
       "      <td>3</td>\n",
       "      <td>11488.740600</td>\n",
       "      <td>11521.006045</td>\n",
       "    </tr>\n",
       "    <tr>\n",
       "      <th>30</th>\n",
       "      <td>3</td>\n",
       "      <td>1</td>\n",
       "      <td>3</td>\n",
       "      <td>11491.361497</td>\n",
       "      <td>11523.636369</td>\n",
       "    </tr>\n",
       "  </tbody>\n",
       "</table>\n",
       "</div>"
      ],
      "text/plain": [
       "    p  d  q           AIC           BIC\n",
       "20  2  1  2  11447.778259  11470.831739\n",
       "23  2  2  3  11482.816726  11510.472822\n",
       "22  2  1  3  11486.927956  11514.592133\n",
       "31  3  2  3  11488.740600  11521.006045\n",
       "30  3  1  3  11491.361497  11523.636369"
      ]
     },
     "execution_count": 12,
     "metadata": {},
     "output_type": "execute_result"
    }
   ],
   "source": [
    "order_df.sort_values('AIC').head()"
   ]
  },
  {
   "cell_type": "code",
   "execution_count": 13,
   "metadata": {},
   "outputs": [
    {
     "data": {
      "text/html": [
       "<div>\n",
       "<style scoped>\n",
       "    .dataframe tbody tr th:only-of-type {\n",
       "        vertical-align: middle;\n",
       "    }\n",
       "\n",
       "    .dataframe tbody tr th {\n",
       "        vertical-align: top;\n",
       "    }\n",
       "\n",
       "    .dataframe thead th {\n",
       "        text-align: right;\n",
       "    }\n",
       "</style>\n",
       "<table border=\"1\" class=\"dataframe\">\n",
       "  <thead>\n",
       "    <tr style=\"text-align: right;\">\n",
       "      <th></th>\n",
       "      <th>p</th>\n",
       "      <th>d</th>\n",
       "      <th>q</th>\n",
       "      <th>AIC</th>\n",
       "      <th>BIC</th>\n",
       "    </tr>\n",
       "  </thead>\n",
       "  <tbody>\n",
       "    <tr>\n",
       "      <th>20</th>\n",
       "      <td>2</td>\n",
       "      <td>1</td>\n",
       "      <td>2</td>\n",
       "      <td>11447.778259</td>\n",
       "      <td>11470.831739</td>\n",
       "    </tr>\n",
       "    <tr>\n",
       "      <th>23</th>\n",
       "      <td>2</td>\n",
       "      <td>2</td>\n",
       "      <td>3</td>\n",
       "      <td>11482.816726</td>\n",
       "      <td>11510.472822</td>\n",
       "    </tr>\n",
       "    <tr>\n",
       "      <th>22</th>\n",
       "      <td>2</td>\n",
       "      <td>1</td>\n",
       "      <td>3</td>\n",
       "      <td>11486.927956</td>\n",
       "      <td>11514.592133</td>\n",
       "    </tr>\n",
       "    <tr>\n",
       "      <th>31</th>\n",
       "      <td>3</td>\n",
       "      <td>2</td>\n",
       "      <td>3</td>\n",
       "      <td>11488.740600</td>\n",
       "      <td>11521.006045</td>\n",
       "    </tr>\n",
       "    <tr>\n",
       "      <th>30</th>\n",
       "      <td>3</td>\n",
       "      <td>1</td>\n",
       "      <td>3</td>\n",
       "      <td>11491.361497</td>\n",
       "      <td>11523.636369</td>\n",
       "    </tr>\n",
       "  </tbody>\n",
       "</table>\n",
       "</div>"
      ],
      "text/plain": [
       "    p  d  q           AIC           BIC\n",
       "20  2  1  2  11447.778259  11470.831739\n",
       "23  2  2  3  11482.816726  11510.472822\n",
       "22  2  1  3  11486.927956  11514.592133\n",
       "31  3  2  3  11488.740600  11521.006045\n",
       "30  3  1  3  11491.361497  11523.636369"
      ]
     },
     "execution_count": 13,
     "metadata": {},
     "output_type": "execute_result"
    }
   ],
   "source": [
    "# Print order_df in order of increasing BIC\n",
    "order_df.sort_values('BIC').head()"
   ]
  },
  {
   "cell_type": "code",
   "execution_count": 5,
   "metadata": {},
   "outputs": [
    {
     "name": "stderr",
     "output_type": "stream",
     "text": [
      " This problem is unconstrained.\n"
     ]
    },
    {
     "name": "stdout",
     "output_type": "stream",
     "text": [
      "RUNNING THE L-BFGS-B CODE\n",
      "\n",
      "           * * *\n",
      "\n",
      "Machine precision = 2.220D-16\n",
      " N =            6     M =           10\n",
      "\n",
      "At X0         0 variables are exactly at the bounds\n",
      "\n",
      "At iterate    0    f=  7.77970D+00    |proj g|=  1.22765D-02\n",
      "\n",
      "At iterate    5    f=  7.77962D+00    |proj g|=  9.78026D-04\n",
      "\n",
      "At iterate   10    f=  7.77946D+00    |proj g|=  1.94812D-02\n",
      "\n",
      "At iterate   15    f=  7.72693D+00    |proj g|=  1.43296D-01\n",
      "\n",
      "At iterate   20    f=  7.71557D+00    |proj g|=  3.49063D-03\n",
      "\n",
      "At iterate   25    f=  7.71500D+00    |proj g|=  2.87657D-02\n",
      "\n",
      "At iterate   30    f=  7.71354D+00    |proj g|=  1.21194D-01\n",
      "\n",
      "At iterate   35    f=  7.71255D+00    |proj g|=  1.15720D-02\n",
      "\n",
      "At iterate   40    f=  7.71233D+00    |proj g|=  2.33468D-03\n",
      "\n",
      "At iterate   45    f=  7.71231D+00    |proj g|=  3.37541D-03\n",
      "\n",
      "At iterate   50    f=  7.71165D+00    |proj g|=  2.29541D-02\n",
      "\n",
      "           * * *\n",
      "\n",
      "Tit   = total number of iterations\n",
      "Tnf   = total number of function evaluations\n",
      "Tnint = total number of segments explored during Cauchy searches\n",
      "Skip  = number of BFGS updates skipped\n",
      "Nact  = number of active bounds at final generalized Cauchy point\n",
      "Projg = norm of the final projected gradient\n",
      "F     = final function value\n",
      "\n",
      "           * * *\n",
      "\n",
      "   N    Tit     Tnf  Tnint  Skip  Nact     Projg        F\n",
      "    6     50     71      1     0     0   2.295D-02   7.712D+00\n",
      "  F =   7.7116451319888553     \n",
      "\n",
      "STOP: TOTAL NO. of ITERATIONS REACHED LIMIT                 \n"
     ]
    }
   ],
   "source": [
    "# Fit model\n",
    "from statsmodels.tsa.statespace.sarimax import SARIMAX\n",
    "model = SARIMAX(series, order=(2,1,3))#213\n",
    "results = model.fit()\n",
    "\n",
    "# Assign residuals to variable\n",
    "residuals = results.resid"
   ]
  },
  {
   "cell_type": "code",
   "execution_count": 15,
   "metadata": {},
   "outputs": [
    {
     "data": {
      "text/plain": [
       "293.57232178782186"
      ]
     },
     "execution_count": 15,
     "metadata": {},
     "output_type": "execute_result"
    }
   ],
   "source": [
    "mae = np.mean(np.abs(residuals))\n",
    "mae"
   ]
  },
  {
   "cell_type": "code",
   "execution_count": 16,
   "metadata": {},
   "outputs": [
    {
     "data": {
      "image/png": "[encoded data removed]",
      "text/plain": [
       "<Figure size 1440x720 with 4 Axes>"
      ]
     },
     "metadata": {
      "needs_background": "light"
     },
     "output_type": "display_data"
    }
   ],
   "source": [
    "# Create the 4 diagostics plots\n",
    "results.plot_diagnostics(figsize=(20,10))\n",
    "plt.show()"
   ]
  },
  {
   "cell_type": "code",
   "execution_count": 4,
   "metadata": {},
   "outputs": [
    {
     "data": {
      "image/png": "[encoded data removed]",
      "text/plain": [
       "<Figure size 432x288 with 4 Axes>"
      ]
     },
     "metadata": {
      "needs_background": "light"
     },
     "output_type": "display_data"
    }
   ],
   "source": [
    "import pylab\n",
    "pylab.rcParams['figure.figsize'] = (20,10)\n",
    "\n",
    "# Import data\n",
    "series = demand_data_analysis.price.interpolate().reset_index(drop=True)\n",
    "\n",
    "from statsmodels.tsa.seasonal import seasonal_decompose\n",
    "\n",
    "decompfreq = 24\n",
    "\n",
    "decomp_results = seasonal_decompose(series, model='additive',period=decompfreq)\n",
    "\n",
    "decomp_results.plot()\n",
    "plt.show()"
   ]
  },
  {
   "cell_type": "code",
   "execution_count": 18,
   "metadata": {},
   "outputs": [
    {
     "name": "stdout",
     "output_type": "stream",
     "text": [
      "Processing 0,0,0...\n",
      "RUNNING THE L-BFGS-B CODE\n",
      "\n",
      "           * * *\n",
      "\n",
      "Machine precision = 2.220D-16\n",
      " N =            6     M =           10\n",
      "\n",
      "At X0         0 variables are exactly at the bounds\n",
      "\n",
      "At iterate    0    f=  7.77970D+00    |proj g|=  1.22765D-02\n"
     ]
    },
    {
     "name": "stderr",
     "output_type": "stream",
     "text": [
      " This problem is unconstrained.\n"
     ]
    },
    {
     "name": "stdout",
     "output_type": "stream",
     "text": [
      "\n",
      "At iterate    5    f=  7.77962D+00    |proj g|=  9.78026D-04\n",
      "\n",
      "At iterate   10    f=  7.77946D+00    |proj g|=  1.94812D-02\n",
      "\n",
      "At iterate   15    f=  7.72693D+00    |proj g|=  1.43296D-01\n",
      "\n",
      "At iterate   20    f=  7.71557D+00    |proj g|=  3.49063D-03\n",
      "\n",
      "At iterate   25    f=  7.71500D+00    |proj g|=  2.87657D-02\n",
      "\n",
      "At iterate   30    f=  7.71354D+00    |proj g|=  1.21194D-01\n",
      "\n",
      "At iterate   35    f=  7.71255D+00    |proj g|=  1.15720D-02\n",
      "\n",
      "At iterate   40    f=  7.71233D+00    |proj g|=  2.33468D-03\n",
      "\n",
      "At iterate   45    f=  7.71231D+00    |proj g|=  3.37541D-03\n"
     ]
    },
    {
     "name": "stderr",
     "output_type": "stream",
     "text": [
      "/home/denis-root/.local/lib/python3.10/site-packages/statsmodels/base/model.py:604: ConvergenceWarning: Maximum Likelihood optimization failed to converge. Check mle_retvals\n",
      "  warnings.warn(\"Maximum Likelihood optimization failed to \"\n"
     ]
    },
    {
     "name": "stdout",
     "output_type": "stream",
     "text": [
      "\n",
      "At iterate   50    f=  7.71165D+00    |proj g|=  2.29541D-02\n",
      "\n",
      "           * * *\n",
      "\n",
      "Tit   = total number of iterations\n",
      "Tnf   = total number of function evaluations\n",
      "Tnint = total number of segments explored during Cauchy searches\n",
      "Skip  = number of BFGS updates skipped\n",
      "Nact  = number of active bounds at final generalized Cauchy point\n",
      "Projg = norm of the final projected gradient\n",
      "F     = final function value\n",
      "\n",
      "           * * *\n",
      "\n",
      "   N    Tit     Tnf  Tnint  Skip  Nact     Projg        F\n",
      "    6     50     71      1     0     0   2.295D-02   7.712D+00\n",
      "  F =   7.7116451319888553     \n",
      "\n",
      "STOP: TOTAL NO. of ITERATIONS REACHED LIMIT                 \n",
      "Processing 0,0,1...\n"
     ]
    },
    {
     "name": "stderr",
     "output_type": "stream",
     "text": [
      " This problem is unconstrained.\n"
     ]
    },
    {
     "name": "stdout",
     "output_type": "stream",
     "text": [
      "RUNNING THE L-BFGS-B CODE\n",
      "\n",
      "           * * *\n",
      "\n",
      "Machine precision = 2.220D-16\n",
      " N =            7     M =           10\n",
      "\n",
      "At X0         0 variables are exactly at the bounds\n",
      "\n",
      "At iterate    0    f=  7.81697D+00    |proj g|=  1.21295D+00\n",
      "\n",
      "At iterate    5    f=  7.44318D+00    |proj g|=  1.82823D-02\n",
      "\n",
      "At iterate   10    f=  7.44246D+00    |proj g|=  2.61300D-03\n",
      "\n",
      "At iterate   15    f=  7.43812D+00    |proj g|=  2.80617D-02\n",
      "\n",
      "At iterate   20    f=  7.35548D+00    |proj g|=  3.80175D-02\n",
      "\n",
      "At iterate   25    f=  7.35387D+00    |proj g|=  2.52103D-03\n",
      "  ys=-3.978E-03  -gs= 2.828E-03 BFGS update SKIPPED\n",
      "\n",
      "At iterate   30    f=  7.33797D+00    |proj g|=  2.84324D-02\n",
      "\n",
      "At iterate   35    f=  7.33256D+00    |proj g|=  8.65819D-04\n",
      "\n",
      "At iterate   40    f=  7.33256D+00    |proj g|=  6.02461D-04\n",
      "\n",
      "At iterate   45    f=  7.33251D+00    |proj g|=  3.34440D-04\n"
     ]
    },
    {
     "name": "stderr",
     "output_type": "stream",
     "text": [
      "/home/denis-root/.local/lib/python3.10/site-packages/statsmodels/base/model.py:604: ConvergenceWarning: Maximum Likelihood optimization failed to converge. Check mle_retvals\n",
      "  warnings.warn(\"Maximum Likelihood optimization failed to \"\n"
     ]
    },
    {
     "name": "stdout",
     "output_type": "stream",
     "text": [
      "\n",
      "At iterate   50    f=  7.31514D+00    |proj g|=  5.15323D-02\n",
      "\n",
      "           * * *\n",
      "\n",
      "Tit   = total number of iterations\n",
      "Tnf   = total number of function evaluations\n",
      "Tnint = total number of segments explored during Cauchy searches\n",
      "Skip  = number of BFGS updates skipped\n",
      "Nact  = number of active bounds at final generalized Cauchy point\n",
      "Projg = norm of the final projected gradient\n",
      "F     = final function value\n",
      "\n",
      "           * * *\n",
      "\n",
      "   N    Tit     Tnf  Tnint  Skip  Nact     Projg        F\n",
      "    7     50     80      1     1     0   5.153D-02   7.315D+00\n",
      "  F =   7.3151447670490368     \n",
      "\n",
      "STOP: TOTAL NO. of ITERATIONS REACHED LIMIT                 \n",
      "Processing 0,0,2...\n"
     ]
    },
    {
     "name": "stderr",
     "output_type": "stream",
     "text": [
      " This problem is unconstrained.\n"
     ]
    },
    {
     "name": "stdout",
     "output_type": "stream",
     "text": [
      "RUNNING THE L-BFGS-B CODE\n",
      "\n",
      "           * * *\n",
      "\n",
      "Machine precision = 2.220D-16\n",
      " N =            8     M =           10\n",
      "\n",
      "At X0         0 variables are exactly at the bounds\n",
      "\n",
      "At iterate    0    f=  7.77970D+00    |proj g|=  1.10007D+00\n",
      "\n",
      "At iterate    5    f=  7.35637D+00    |proj g|=  5.29876D-03\n",
      "\n",
      "At iterate   10    f=  7.35622D+00    |proj g|=  1.71708D-03\n",
      "\n",
      "At iterate   15    f=  7.35178D+00    |proj g|=  3.40749D-02\n",
      "\n",
      "At iterate   20    f=  7.32675D+00    |proj g|=  4.49205D-02\n",
      "\n",
      "At iterate   25    f=  7.13254D+00    |proj g|=  3.12765D-02\n",
      "\n",
      "At iterate   30    f=  7.12928D+00    |proj g|=  1.61800D-04\n",
      "\n",
      "At iterate   35    f=  7.12927D+00    |proj g|=  1.01382D-03\n",
      "  ys=-1.395E-02  -gs= 1.187E-03 BFGS update SKIPPED\n",
      "\n",
      "At iterate   40    f=  7.11261D+00    |proj g|=  2.71180D-02\n",
      "\n",
      "At iterate   45    f=  7.11107D+00    |proj g|=  2.86922D-04\n"
     ]
    },
    {
     "name": "stderr",
     "output_type": "stream",
     "text": [
      "/home/denis-root/.local/lib/python3.10/site-packages/statsmodels/base/model.py:604: ConvergenceWarning: Maximum Likelihood optimization failed to converge. Check mle_retvals\n",
      "  warnings.warn(\"Maximum Likelihood optimization failed to \"\n"
     ]
    },
    {
     "name": "stdout",
     "output_type": "stream",
     "text": [
      "\n",
      "At iterate   50    f=  7.11105D+00    |proj g|=  2.68934D-03\n",
      "\n",
      "           * * *\n",
      "\n",
      "Tit   = total number of iterations\n",
      "Tnf   = total number of function evaluations\n",
      "Tnint = total number of segments explored during Cauchy searches\n",
      "Skip  = number of BFGS updates skipped\n",
      "Nact  = number of active bounds at final generalized Cauchy point\n",
      "Projg = norm of the final projected gradient\n",
      "F     = final function value\n",
      "\n",
      "           * * *\n",
      "\n",
      "   N    Tit     Tnf  Tnint  Skip  Nact     Projg        F\n",
      "    8     50     69      1     1     0   2.689D-03   7.111D+00\n",
      "  F =   7.1110539961291970     \n",
      "\n",
      "STOP: TOTAL NO. of ITERATIONS REACHED LIMIT                 \n",
      "Processing 0,0,3...\n"
     ]
    },
    {
     "name": "stderr",
     "output_type": "stream",
     "text": [
      " This problem is unconstrained.\n"
     ]
    },
    {
     "name": "stdout",
     "output_type": "stream",
     "text": [
      "RUNNING THE L-BFGS-B CODE\n",
      "\n",
      "           * * *\n",
      "\n",
      "Machine precision = 2.220D-16\n",
      " N =            9     M =           10\n",
      "\n",
      "At X0         0 variables are exactly at the bounds\n",
      "\n",
      "At iterate    0    f=  7.77970D+00    |proj g|=  1.10007D+00\n",
      "\n",
      "At iterate    5    f=  7.32127D+00    |proj g|=  4.03279D-03\n",
      "\n",
      "At iterate   10    f=  7.32103D+00    |proj g|=  2.17501D-03\n",
      "\n",
      "At iterate   15    f=  7.31213D+00    |proj g|=  3.39961D-02\n",
      "\n",
      "At iterate   20    f=  7.20810D+00    |proj g|=  8.65641D-02\n",
      "\n",
      "At iterate   25    f=  7.02931D+00    |proj g|=  1.73765D-02\n",
      "\n",
      "At iterate   30    f=  6.99570D+00    |proj g|=  6.05291D-03\n",
      "\n",
      "At iterate   35    f=  6.99561D+00    |proj g|=  6.17331D-04\n",
      "\n",
      "At iterate   40    f=  6.98286D+00    |proj g|=  5.44602D-02\n",
      "\n",
      "At iterate   45    f=  6.97981D+00    |proj g|=  4.35629D-03\n"
     ]
    },
    {
     "name": "stderr",
     "output_type": "stream",
     "text": [
      "/home/denis-root/.local/lib/python3.10/site-packages/statsmodels/base/model.py:604: ConvergenceWarning: Maximum Likelihood optimization failed to converge. Check mle_retvals\n",
      "  warnings.warn(\"Maximum Likelihood optimization failed to \"\n"
     ]
    },
    {
     "name": "stdout",
     "output_type": "stream",
     "text": [
      "\n",
      "At iterate   50    f=  6.97973D+00    |proj g|=  1.28414D-04\n",
      "\n",
      "           * * *\n",
      "\n",
      "Tit   = total number of iterations\n",
      "Tnf   = total number of function evaluations\n",
      "Tnint = total number of segments explored during Cauchy searches\n",
      "Skip  = number of BFGS updates skipped\n",
      "Nact  = number of active bounds at final generalized Cauchy point\n",
      "Projg = norm of the final projected gradient\n",
      "F     = final function value\n",
      "\n",
      "           * * *\n",
      "\n",
      "   N    Tit     Tnf  Tnint  Skip  Nact     Projg        F\n",
      "    9     50     84      1     0     0   1.284D-04   6.980D+00\n",
      "  F =   6.9797308173919346     \n",
      "\n",
      "STOP: TOTAL NO. of ITERATIONS REACHED LIMIT                 \n",
      "Processing 1,0,0...\n",
      "RUNNING THE L-BFGS-B CODE\n",
      "\n",
      "           * * *\n",
      "\n",
      "Machine precision = 2.220D-16\n",
      " N =            7     M =           10\n",
      "\n",
      "At X0         0 variables are exactly at the bounds\n",
      "\n",
      "At iterate    0    f=  7.28016D+00    |proj g|=  5.65811D-02\n"
     ]
    },
    {
     "name": "stderr",
     "output_type": "stream",
     "text": [
      " This problem is unconstrained.\n"
     ]
    },
    {
     "name": "stdout",
     "output_type": "stream",
     "text": [
      "\n",
      "At iterate    5    f=  7.26017D+00    |proj g|=  4.21462D-03\n",
      "\n",
      "At iterate   10    f=  7.25273D+00    |proj g|=  4.02486D-03\n",
      "\n",
      "At iterate   15    f=  6.98826D+00    |proj g|=  3.00290D-01\n",
      "\n",
      "At iterate   20    f=  6.83474D+00    |proj g|=  5.63151D-03\n",
      "\n",
      "At iterate   25    f=  6.78754D+00    |proj g|=  1.53957D-02\n",
      "\n",
      "At iterate   30    f=  6.78564D+00    |proj g|=  6.69574D-03\n",
      "\n",
      "At iterate   35    f=  6.78350D+00    |proj g|=  3.32319D-03\n"
     ]
    },
    {
     "name": "stderr",
     "output_type": "stream",
     "text": [
      "\n",
      " Bad direction in the line search;\n",
      "   refresh the lbfgs memory and restart the iteration.\n",
      "/home/denis-root/.local/lib/python3.10/site-packages/statsmodels/base/model.py:604: ConvergenceWarning: Maximum Likelihood optimization failed to converge. Check mle_retvals\n",
      "  warnings.warn(\"Maximum Likelihood optimization failed to \"\n",
      "\n",
      " Line search cannot locate an adequate point after MAXLS\n",
      "  function and gradient evaluations.\n",
      "  Previous x, f and g restored.\n",
      " Possible causes: 1 error in function or gradient evaluation;\n",
      "                  2 rounding error dominate computation.\n"
     ]
    },
    {
     "name": "stdout",
     "output_type": "stream",
     "text": [
      "\n",
      "           * * *\n",
      "\n",
      "Tit   = total number of iterations\n",
      "Tnf   = total number of function evaluations\n",
      "Tnint = total number of segments explored during Cauchy searches\n",
      "Skip  = number of BFGS updates skipped\n",
      "Nact  = number of active bounds at final generalized Cauchy point\n",
      "Projg = norm of the final projected gradient\n",
      "F     = final function value\n",
      "\n",
      "           * * *\n",
      "\n",
      "   N    Tit     Tnf  Tnint  Skip  Nact     Projg        F\n",
      "    7     38    128      2     0     0   1.371D+01   6.636D+00\n",
      "  F =   6.6361920608609024     \n",
      "\n",
      "ABNORMAL_TERMINATION_IN_LNSRCH                              \n",
      "Processing 1,0,1...\n",
      "RUNNING THE L-BFGS-B CODE\n",
      "\n",
      "           * * *\n",
      "\n",
      "Machine precision = 2.220D-16\n",
      " N =            8     M =           10\n",
      "\n",
      "At X0         0 variables are exactly at the bounds\n",
      "\n",
      "At iterate    0    f=  7.65726D+00    |proj g|=  2.28205D-01\n"
     ]
    },
    {
     "name": "stderr",
     "output_type": "stream",
     "text": [
      " This problem is unconstrained.\n"
     ]
    },
    {
     "name": "stdout",
     "output_type": "stream",
     "text": [
      "\n",
      "At iterate    5    f=  7.23986D+00    |proj g|=  2.88790D-03\n",
      "\n",
      "At iterate   10    f=  7.22863D+00    |proj g|=  2.18916D-02\n",
      "\n",
      "At iterate   15    f=  7.16750D+00    |proj g|=  3.59916D-02\n",
      "\n",
      "At iterate   20    f=  6.67262D+00    |proj g|=  8.24076D-02\n",
      "\n",
      "At iterate   25    f=  6.39160D+00    |proj g|=  4.72463D-02\n",
      "\n",
      "At iterate   30    f=  6.38438D+00    |proj g|=  1.19461D-02\n",
      "\n",
      "At iterate   35    f=  6.38135D+00    |proj g|=  1.19663D-02\n",
      "\n",
      "At iterate   40    f=  6.37191D+00    |proj g|=  4.56342D-02\n"
     ]
    },
    {
     "name": "stderr",
     "output_type": "stream",
     "text": [
      "\n",
      " Bad direction in the line search;\n",
      "   refresh the lbfgs memory and restart the iteration.\n"
     ]
    },
    {
     "name": "stdout",
     "output_type": "stream",
     "text": [
      "\n",
      "At iterate   45    f=  6.36484D+00    |proj g|=  1.08025D-02\n"
     ]
    },
    {
     "name": "stderr",
     "output_type": "stream",
     "text": [
      "\n",
      " Warning:  more than 10 function and gradient\n",
      "   evaluations in the last line search.  Termination\n",
      "   may possibly be caused by a bad search direction.\n"
     ]
    },
    {
     "name": "stdout",
     "output_type": "stream",
     "text": [
      "\n",
      "           * * *\n",
      "\n",
      "Tit   = total number of iterations\n",
      "Tnf   = total number of function evaluations\n",
      "Tnint = total number of segments explored during Cauchy searches\n",
      "Skip  = number of BFGS updates skipped\n",
      "Nact  = number of active bounds at final generalized Cauchy point\n",
      "Projg = norm of the final projected gradient\n",
      "F     = final function value\n",
      "\n",
      "           * * *\n",
      "\n",
      "   N    Tit     Tnf  Tnint  Skip  Nact     Projg        F\n",
      "    8     49    127      2     0     0   1.336D-02   6.365D+00\n",
      "  F =   6.3648112725038892     \n",
      "\n",
      "CONVERGENCE: REL_REDUCTION_OF_F_<=_FACTR*EPSMCH             \n",
      "Processing 1,0,2...\n",
      "RUNNING THE L-BFGS-B CODE\n",
      "\n",
      "           * * *\n",
      "\n",
      "Machine precision = 2.220D-16\n",
      " N =            9     M =           10\n",
      "\n",
      "At X0         0 variables are exactly at the bounds\n",
      "\n",
      "At iterate    0    f=  7.28812D+00    |proj g|=  1.12271D-01\n"
     ]
    },
    {
     "name": "stderr",
     "output_type": "stream",
     "text": [
      " This problem is unconstrained.\n"
     ]
    },
    {
     "name": "stdout",
     "output_type": "stream",
     "text": [
      "\n",
      "At iterate    5    f=  7.23924D+00    |proj g|=  1.73253D-03\n",
      "\n",
      "At iterate   10    f=  7.23674D+00    |proj g|=  1.73293D-02\n",
      "  ys=-3.209E-01  -gs= 3.054E-02 BFGS update SKIPPED\n"
     ]
    },
    {
     "name": "stderr",
     "output_type": "stream",
     "text": [
      "\n",
      " Bad direction in the line search;\n",
      "   refresh the lbfgs memory and restart the iteration.\n"
     ]
    },
    {
     "name": "stdout",
     "output_type": "stream",
     "text": [
      "\n",
      "At iterate   15    f=  7.19803D+00    |proj g|=  2.18564D-02\n"
     ]
    },
    {
     "name": "stderr",
     "output_type": "stream",
     "text": [
      "\n",
      " Bad direction in the line search;\n",
      "   refresh the lbfgs memory and restart the iteration.\n",
      "/home/denis-root/.local/lib/python3.10/site-packages/statsmodels/base/model.py:604: ConvergenceWarning: Maximum Likelihood optimization failed to converge. Check mle_retvals\n",
      "  warnings.warn(\"Maximum Likelihood optimization failed to \"\n",
      "\n",
      " Line search cannot locate an adequate point after MAXLS\n",
      "  function and gradient evaluations.\n",
      "  Previous x, f and g restored.\n",
      " Possible causes: 1 error in function or gradient evaluation;\n",
      "                  2 rounding error dominate computation.\n"
     ]
    },
    {
     "name": "stdout",
     "output_type": "stream",
     "text": [
      "\n",
      "           * * *\n",
      "\n",
      "Tit   = total number of iterations\n",
      "Tnf   = total number of function evaluations\n",
      "Tnint = total number of segments explored during Cauchy searches\n",
      "Skip  = number of BFGS updates skipped\n",
      "Nact  = number of active bounds at final generalized Cauchy point\n",
      "Projg = norm of the final projected gradient\n",
      "F     = final function value\n",
      "\n",
      "           * * *\n",
      "\n",
      "   N    Tit     Tnf  Tnint  Skip  Nact     Projg        F\n",
      "    9     20    101      3     1     0   2.444D-02   7.192D+00\n",
      "  F =   7.1923843374676242     \n",
      "\n",
      "ABNORMAL_TERMINATION_IN_LNSRCH                              \n",
      "Processing 1,0,3...\n",
      "RUNNING THE L-BFGS-B CODE\n",
      "\n",
      "           * * *\n",
      "\n",
      "Machine precision = 2.220D-16\n",
      " N =           10     M =           10\n",
      "\n",
      "At X0         0 variables are exactly at the bounds\n",
      "\n",
      "At iterate    0    f=  7.34817D+00    |proj g|=  2.01198D-01\n"
     ]
    },
    {
     "name": "stderr",
     "output_type": "stream",
     "text": [
      " This problem is unconstrained.\n"
     ]
    },
    {
     "name": "stdout",
     "output_type": "stream",
     "text": [
      "\n",
      "At iterate    5    f=  7.23959D+00    |proj g|=  7.50326D-03\n",
      "\n",
      "At iterate   10    f=  7.23859D+00    |proj g|=  2.65609D-03\n",
      "\n",
      "At iterate   15    f=  7.22385D+00    |proj g|=  1.69769D-02\n",
      "\n",
      "At iterate   20    f=  7.19723D+00    |proj g|=  2.82557D-01\n"
     ]
    },
    {
     "name": "stderr",
     "output_type": "stream",
     "text": [
      "\n",
      " Bad direction in the line search;\n",
      "   refresh the lbfgs memory and restart the iteration.\n"
     ]
    },
    {
     "name": "stdout",
     "output_type": "stream",
     "text": [
      "  ys=-5.288E-05  -gs= 6.003E-05 BFGS update SKIPPED\n"
     ]
    },
    {
     "name": "stderr",
     "output_type": "stream",
     "text": [
      "\n",
      " Warning:  more than 10 function and gradient\n",
      "   evaluations in the last line search.  Termination\n",
      "   may possibly be caused by a bad search direction.\n"
     ]
    },
    {
     "name": "stdout",
     "output_type": "stream",
     "text": [
      "\n",
      "           * * *\n",
      "\n",
      "Tit   = total number of iterations\n",
      "Tnf   = total number of function evaluations\n",
      "Tnint = total number of segments explored during Cauchy searches\n",
      "Skip  = number of BFGS updates skipped\n",
      "Nact  = number of active bounds at final generalized Cauchy point\n",
      "Projg = norm of the final projected gradient\n",
      "F     = final function value\n",
      "\n",
      "           * * *\n",
      "\n",
      "   N    Tit     Tnf  Tnint  Skip  Nact     Projg        F\n",
      "   10     23    105      2     1     0   2.978D-01   7.195D+00\n",
      "  F =   7.1950636401713508     \n",
      "\n",
      "CONVERGENCE: REL_REDUCTION_OF_F_<=_FACTR*EPSMCH             \n",
      "Processing 2,0,0...\n",
      "RUNNING THE L-BFGS-B CODE\n",
      "\n",
      "           * * *\n",
      "\n",
      "Machine precision = 2.220D-16\n",
      " N =            8     M =           10\n",
      "\n",
      "At X0         0 variables are exactly at the bounds\n",
      "\n",
      "At iterate    0    f=  7.27468D+00    |proj g|=  3.87291D-02\n"
     ]
    },
    {
     "name": "stderr",
     "output_type": "stream",
     "text": [
      " This problem is unconstrained.\n"
     ]
    },
    {
     "name": "stdout",
     "output_type": "stream",
     "text": [
      "\n",
      "At iterate    5    f=  7.24378D+00    |proj g|=  1.09770D-02\n",
      "\n",
      "At iterate   10    f=  7.23720D+00    |proj g|=  4.49012D-03\n",
      "\n",
      "At iterate   15    f=  6.84894D+00    |proj g|=  5.85327D+00\n",
      "  ys=-2.194E-03  -gs= 1.201E-02 BFGS update SKIPPED\n"
     ]
    },
    {
     "name": "stderr",
     "output_type": "stream",
     "text": [
      "\n",
      " Bad direction in the line search;\n",
      "   refresh the lbfgs memory and restart the iteration.\n"
     ]
    },
    {
     "name": "stdout",
     "output_type": "stream",
     "text": [
      "\n",
      "At iterate   20    f=  6.84820D+00    |proj g|=  3.64803D+00\n"
     ]
    },
    {
     "name": "stderr",
     "output_type": "stream",
     "text": [
      "\n",
      " Bad direction in the line search;\n",
      "   refresh the lbfgs memory and restart the iteration.\n"
     ]
    },
    {
     "name": "stdout",
     "output_type": "stream",
     "text": [
      "  ys=-1.676E+05  -gs= 2.814E+02 BFGS update SKIPPED\n",
      "Processing 2,0,1...\n"
     ]
    },
    {
     "name": "stderr",
     "output_type": "stream",
     "text": [
      " This problem is unconstrained.\n"
     ]
    },
    {
     "name": "stdout",
     "output_type": "stream",
     "text": [
      "RUNNING THE L-BFGS-B CODE\n",
      "\n",
      "           * * *\n",
      "\n",
      "Machine precision = 2.220D-16\n",
      " N =            9     M =           10\n",
      "\n",
      "At X0         0 variables are exactly at the bounds\n",
      "\n",
      "At iterate    0    f=  7.26562D+00    |proj g|=  3.82318D-02\n",
      "\n",
      "At iterate    5    f=  7.24194D+00    |proj g|=  3.28583D-03\n",
      "\n",
      "At iterate   10    f=  7.23550D+00    |proj g|=  1.99510D-02\n",
      "\n",
      "At iterate   15    f=  7.22815D+00    |proj g|=  3.60090D-03\n",
      "\n",
      "At iterate   20    f=  2.86451D-01    |proj g|=  5.17363D+04\n",
      "Processing 2,0,2...\n",
      "RUNNING THE L-BFGS-B CODE\n",
      "\n",
      "           * * *\n",
      "\n",
      "Machine precision = 2.220D-16\n",
      " N =           10     M =           10\n",
      "\n",
      "At X0         0 variables are exactly at the bounds\n",
      "\n",
      "At iterate    0    f=  7.25863D+00    |proj g|=  3.76186D-02\n"
     ]
    },
    {
     "name": "stderr",
     "output_type": "stream",
     "text": [
      " This problem is unconstrained.\n"
     ]
    },
    {
     "name": "stdout",
     "output_type": "stream",
     "text": [
      "\n",
      "At iterate    5    f=  7.23920D+00    |proj g|=  1.73636D-03\n",
      "\n",
      "At iterate   10    f=  7.23663D+00    |proj g|=  1.73386D-02\n",
      "\n",
      "At iterate   15    f=  7.21103D+00    |proj g|=  1.77776D-02\n",
      "\n",
      "At iterate   20    f=  7.00984D+00    |proj g|=  1.93642D-01\n",
      "Processing 2,0,3...\n"
     ]
    }
   ],
   "source": [
    "#4\n",
    "from statsmodels.tsa.statespace.sarimax import SARIMAX\n",
    "\n",
    "DIFF = 24 #decompfreq\n",
    "ns_order = (2,1,3) #213\n",
    "\n",
    "# Import data\n",
    "series = demand_data_analysis.price.interpolate().reset_index(drop=True)\n",
    "#series.head()\n",
    "#Create empty list to store search results\n",
    "order_aic_bic_seasonal=[]\n",
    "\n",
    "for P in range(4):\n",
    "    for Q in range(4):\n",
    "        for D in range(1):\n",
    "            print('Processing {},{},{}...'.format(P,D,Q))\n",
    "\n",
    "            # create and fit SARIMAX(p,d,q,P,D,Q,DIFF) model\n",
    "            model = SARIMAX(series, order=ns_order, seasonal_order=(P,D,Q,DIFF),exogenous = demand_data_analysis['exo'])\n",
    "            try:\n",
    "                results = model.fit()\n",
    "\n",
    "                # Append order and results tuple\n",
    "                order_aic_bic_seasonal.append((P, D, Q, results.aic, results.bic))\n",
    "            except:\n",
    "                pass\n",
    "        \n",
    "# Construct DataFrame from order_aic_bic\n",
    "order_seasonal_df = pd.DataFrame(order_aic_bic_seasonal, columns=['P', 'D', 'Q', 'AIC', 'BIC'])"
   ]
  },
  {
   "cell_type": "code",
   "execution_count": 8,
   "metadata": {},
   "outputs": [
    {
     "data": {
      "text/html": [
       "<div>\n",
       "<style scoped>\n",
       "    .dataframe tbody tr th:only-of-type {\n",
       "        vertical-align: middle;\n",
       "    }\n",
       "\n",
       "    .dataframe tbody tr th {\n",
       "        vertical-align: top;\n",
       "    }\n",
       "\n",
       "    .dataframe thead th {\n",
       "        text-align: right;\n",
       "    }\n",
       "</style>\n",
       "<table border=\"1\" class=\"dataframe\">\n",
       "  <thead>\n",
       "    <tr style=\"text-align: right;\">\n",
       "      <th></th>\n",
       "      <th>P</th>\n",
       "      <th>D</th>\n",
       "      <th>Q</th>\n",
       "      <th>AIC</th>\n",
       "      <th>BIC</th>\n",
       "    </tr>\n",
       "  </thead>\n",
       "  <tbody>\n",
       "    <tr>\n",
       "      <th>5</th>\n",
       "      <td>1</td>\n",
       "      <td>0</td>\n",
       "      <td>1</td>\n",
       "      <td>9486.839173</td>\n",
       "      <td>9523.724742</td>\n",
       "    </tr>\n",
       "    <tr>\n",
       "      <th>4</th>\n",
       "      <td>1</td>\n",
       "      <td>0</td>\n",
       "      <td>0</td>\n",
       "      <td>9888.653787</td>\n",
       "      <td>9920.928659</td>\n",
       "    </tr>\n",
       "    <tr>\n",
       "      <th>3</th>\n",
       "      <td>0</td>\n",
       "      <td>0</td>\n",
       "      <td>3</td>\n",
       "      <td>10403.839456</td>\n",
       "      <td>10445.335721</td>\n",
       "    </tr>\n",
       "    <tr>\n",
       "      <th>8</th>\n",
       "      <td>2</td>\n",
       "      <td>0</td>\n",
       "      <td>2</td>\n",
       "      <td>10450.613242</td>\n",
       "      <td>10496.720202</td>\n",
       "    </tr>\n",
       "    <tr>\n",
       "      <th>9</th>\n",
       "      <td>2</td>\n",
       "      <td>0</td>\n",
       "      <td>3</td>\n",
       "      <td>10496.298700</td>\n",
       "      <td>10547.016357</td>\n",
       "    </tr>\n",
       "  </tbody>\n",
       "</table>\n",
       "</div>"
      ],
      "text/plain": [
       "   P  D  Q           AIC           BIC\n",
       "5  1  0  1   9486.839173   9523.724742\n",
       "4  1  0  0   9888.653787   9920.928659\n",
       "3  0  0  3  10403.839456  10445.335721\n",
       "8  2  0  2  10450.613242  10496.720202\n",
       "9  2  0  3  10496.298700  10547.016357"
      ]
     },
     "execution_count": 8,
     "metadata": {},
     "output_type": "execute_result"
    }
   ],
   "source": [
    "order_seasonal_df.sort_values('AIC').head()"
   ]
  },
  {
   "cell_type": "code",
   "execution_count": null,
   "metadata": {},
   "outputs": [
    {
     "data": {
      "text/html": [
       "<div>\n",
       "<style scoped>\n",
       "    .dataframe tbody tr th:only-of-type {\n",
       "        vertical-align: middle;\n",
       "    }\n",
       "\n",
       "    .dataframe tbody tr th {\n",
       "        vertical-align: top;\n",
       "    }\n",
       "\n",
       "    .dataframe thead th {\n",
       "        text-align: right;\n",
       "    }\n",
       "</style>\n",
       "<table border=\"1\" class=\"dataframe\">\n",
       "  <thead>\n",
       "    <tr style=\"text-align: right;\">\n",
       "      <th></th>\n",
       "      <th>P</th>\n",
       "      <th>D</th>\n",
       "      <th>Q</th>\n",
       "      <th>AIC</th>\n",
       "      <th>BIC</th>\n",
       "    </tr>\n",
       "  </thead>\n",
       "  <tbody>\n",
       "    <tr>\n",
       "      <th>3</th>\n",
       "      <td>0</td>\n",
       "      <td>0</td>\n",
       "      <td>3</td>\n",
       "      <td>10450.315218</td>\n",
       "      <td>10487.200787</td>\n",
       "    </tr>\n",
       "    <tr>\n",
       "      <th>2</th>\n",
       "      <td>0</td>\n",
       "      <td>0</td>\n",
       "      <td>2</td>\n",
       "      <td>10545.868874</td>\n",
       "      <td>10578.143747</td>\n",
       "    </tr>\n",
       "    <tr>\n",
       "      <th>4</th>\n",
       "      <td>1</td>\n",
       "      <td>0</td>\n",
       "      <td>1</td>\n",
       "      <td>10806.704266</td>\n",
       "      <td>10838.979138</td>\n",
       "    </tr>\n",
       "    <tr>\n",
       "      <th>5</th>\n",
       "      <td>2</td>\n",
       "      <td>0</td>\n",
       "      <td>1</td>\n",
       "      <td>10804.906987</td>\n",
       "      <td>10841.792556</td>\n",
       "    </tr>\n",
       "    <tr>\n",
       "      <th>1</th>\n",
       "      <td>0</td>\n",
       "      <td>0</td>\n",
       "      <td>1</td>\n",
       "      <td>10850.745232</td>\n",
       "      <td>10878.409408</td>\n",
       "    </tr>\n",
       "  </tbody>\n",
       "</table>\n",
       "</div>"
      ],
      "text/plain": [
       "   P  D  Q           AIC           BIC\n",
       "3  0  0  3  10450.315218  10487.200787\n",
       "2  0  0  2  10545.868874  10578.143747\n",
       "4  1  0  1  10806.704266  10838.979138\n",
       "5  2  0  1  10804.906987  10841.792556\n",
       "1  0  0  1  10850.745232  10878.409408"
      ]
     },
     "execution_count": 24,
     "metadata": {},
     "output_type": "execute_result"
    }
   ],
   "source": [
    "order_seasonal_df.sort_values('BIC').head()"
   ]
  },
  {
   "cell_type": "code",
   "execution_count": 5,
   "metadata": {},
   "outputs": [
    {
     "name": "stderr",
     "output_type": "stream",
     "text": [
      " This problem is unconstrained.\n"
     ]
    },
    {
     "name": "stdout",
     "output_type": "stream",
     "text": [
      "RUNNING THE L-BFGS-B CODE\n",
      "\n",
      "           * * *\n",
      "\n",
      "Machine precision = 2.220D-16\n",
      " N =            8     M =           10\n",
      "\n",
      "At X0         0 variables are exactly at the bounds\n",
      "\n",
      "At iterate    0    f=  6.17829D+00    |proj g|=  3.80203D-02\n",
      "\n",
      "At iterate    5    f=  6.16531D+00    |proj g|=  9.39717D-03\n",
      "\n",
      "At iterate   10    f=  6.15594D+00    |proj g|=  7.23968D-03\n",
      "\n",
      "At iterate   15    f=  6.07835D+00    |proj g|=  1.16642D-02\n",
      "\n",
      "At iterate   20    f=  6.07802D+00    |proj g|=  1.00687D-05\n",
      "\n",
      "           * * *\n",
      "\n",
      "Tit   = total number of iterations\n",
      "Tnf   = total number of function evaluations\n",
      "Tnint = total number of segments explored during Cauchy searches\n",
      "Skip  = number of BFGS updates skipped\n",
      "Nact  = number of active bounds at final generalized Cauchy point\n",
      "Projg = norm of the final projected gradient\n",
      "F     = final function value\n",
      "\n",
      "           * * *\n",
      "\n",
      "   N    Tit     Tnf  Tnint  Skip  Nact     Projg        F\n",
      "    8     21     25      1     0     0   6.691D-06   6.078D+00\n",
      "  F =   6.0780167296112300     \n",
      "\n",
      "CONVERGENCE: NORM_OF_PROJECTED_GRADIENT_<=_PGTOL            \n",
      "                                      SARIMAX Results                                      \n",
      "===========================================================================================\n",
      "Dep. Variable:                               price   No. Observations:                  744\n",
      "Model:             SARIMAX(2, 1, 2)x(3, 1, [], 24)   Log Likelihood               -4522.044\n",
      "Date:                             Fri, 23 Dec 2022   AIC                           9060.089\n",
      "Time:                                     11:47:59   BIC                           9096.712\n",
      "Sample:                                          0   HQIC                          9074.228\n",
      "                                             - 744                                         \n",
      "Covariance Type:                               opg                                         \n",
      "==============================================================================\n",
      "                 coef    std err          z      P>|z|      [0.025      0.975]\n",
      "------------------------------------------------------------------------------\n",
      "ar.L1         -0.7264      0.798     -0.910      0.363      -2.291       0.838\n",
      "ar.L2          0.2732      0.212      1.287      0.198      -0.143       0.689\n",
      "ma.L1       -3.98e-05      6.757  -5.89e-06      1.000     -13.244      13.244\n",
      "ma.L2         -1.0000      0.788     -1.270      0.204      -2.544       0.544\n",
      "ar.S.L24      -0.8739      0.022    -40.062      0.000      -0.917      -0.831\n",
      "ar.S.L48      -0.4214      0.062     -6.794      0.000      -0.543      -0.300\n",
      "ar.S.L72      -0.1919      0.083     -2.308      0.021      -0.355      -0.029\n",
      "sigma2      1.639e+04      0.000    4.5e+07      0.000    1.64e+04    1.64e+04\n",
      "===================================================================================\n",
      "Ljung-Box (L1) (Q):                   0.87   Jarque-Bera (JB):            818125.44\n",
      "Prob(Q):                              0.35   Prob(JB):                         0.00\n",
      "Heteroskedasticity (H):               9.04   Skew:                            -0.28\n",
      "Prob(H) (two-sided):                  0.00   Kurtosis:                       168.25\n",
      "===================================================================================\n",
      "\n",
      "Warnings:\n",
      "[1] Covariance matrix calculated using the outer product of gradients (complex-step).\n",
      "[2] Covariance matrix is singular or near-singular, with condition number 1.04e+24. Standard errors may be unstable.\n"
     ]
    }
   ],
   "source": [
    "#5\n",
    "# Create a SARIMAX model\n",
    "DIFF = 24 #decompfreq\n",
    "from statsmodels.tsa.statespace.sarimax import SARIMAX\n",
    "model = SARIMAX(series, order=(2,1,2), seasonal_order=(3,1,0,DIFF))#310\n",
    "\n",
    "# Fit the model\n",
    "results = model.fit()\n",
    "\n",
    "# Print the results summary\n",
    "print(results.summary())"
   ]
  },
  {
   "cell_type": "code",
   "execution_count": 10,
   "metadata": {},
   "outputs": [
    {
     "data": {
      "image/png": "[encoded data removed]",
      "text/plain": [
       "<Figure size 1440x432 with 1 Axes>"
      ]
     },
     "metadata": {
      "needs_background": "light"
     },
     "output_type": "display_data"
    }
   ],
   "source": [
    "\n",
    "# Import data\n",
    "series_df = demand_data_analysis.price\n",
    "\n",
    "NUM_OF_STEPS = 24\n",
    "# Generate predictions\n",
    "one_step_forecast = results.get_prediction(start=-NUM_OF_STEPS, dynamic=False)\n",
    "# Extract prediction mean\n",
    "mean_forecast = one_step_forecast.predicted_mean\n",
    "mean_forecast_x = demand_data_analysis.index[-NUM_OF_STEPS:]\n",
    "\n",
    "forecast_df = pd.DataFrame(mean_forecast.to_list(), \n",
    "                           index=mean_forecast_x, columns = ['forecast'])\n",
    "\n",
    "# Get confidence intervals of  predictions\n",
    "confidence_intervals = one_step_forecast.conf_int()\n",
    "# confidence_intervals\n",
    "# # Select lower and upper confidence limits\n",
    "lower_limits = confidence_intervals.loc[:,'lower price']\n",
    "upper_limits = confidence_intervals.loc[:,'upper price']\n",
    "conf_int_df = pd.DataFrame(list(zip(lower_limits, upper_limits)), index=mean_forecast_x, \n",
    "                           columns = ['lower_limits','upper_limits'])\n",
    "\n",
    "plt.figure(figsize=(20,6))\n",
    "\n",
    "# plot the amazon data\n",
    "plt.plot(series_df, color='b', label='observed')\n",
    "\n",
    "# plot your mean predictions\n",
    "plt.plot(forecast_df, color='r', label='prediction')\n",
    "\n",
    "# shade the area between your confidence limits\n",
    "plt.fill_between(conf_int_df.index, conf_int_df.lower_limits, \n",
    "                 conf_int_df.upper_limits, color='pink')\n",
    "\n",
    "# set labels, legends and show plot\n",
    "plt.xlabel('datetime')\n",
    "plt.ylabel('Energy Prediction')\n",
    "plt.legend()\n",
    "plt.show()"
   ]
  },
  {
   "cell_type": "code",
   "execution_count": 11,
   "metadata": {},
   "outputs": [
    {
     "data": {
      "image/png": "[encoded data removed]",
      "text/plain": [
       "<Figure size 1008x432 with 1 Axes>"
      ]
     },
     "metadata": {
      "needs_background": "light"
     },
     "output_type": "display_data"
    }
   ],
   "source": [
    "# Import data\n",
    "series_df = demand_data_analysis.price\n",
    "\n",
    "NUM_OF_STEPS = 24\n",
    "# Generate predictions\n",
    "dynamic_forecast = results.get_prediction(start=-NUM_OF_STEPS, dynamic=True)\n",
    "# Extract prediction mean\n",
    "mean_forecast = dynamic_forecast.predicted_mean\n",
    "mean_forecast_x = demand_data_analysis.index[-NUM_OF_STEPS:]\n",
    "\n",
    "forecast_df = pd.DataFrame(mean_forecast.to_list(), \n",
    "                           index=mean_forecast_x, columns = ['forecast'])\n",
    "\n",
    "# Get confidence intervals of  predictions\n",
    "confidence_intervals = dynamic_forecast.conf_int()\n",
    "# confidence_intervals\n",
    "# # Select lower and upper confidence limits\n",
    "lower_limits = confidence_intervals.loc[:,'lower price']\n",
    "upper_limits = confidence_intervals.loc[:,'upper price']\n",
    "conf_int_df = pd.DataFrame(list(zip(lower_limits, upper_limits)), index=mean_forecast_x, \n",
    "                           columns = ['lower_limits','upper_limits'])\n",
    "\n",
    "plt.figure(figsize=(14,6))\n",
    "\n",
    "# plot the amazon data\n",
    "plt.plot(series_df, color='b', label='observed')\n",
    "\n",
    "# plot your mean predictions\n",
    "plt.plot(forecast_df, color='r', label='prediction')\n",
    "\n",
    "# shade the area between your confidence limits\n",
    "plt.fill_between(conf_int_df.index, conf_int_df.lower_limits, \n",
    "                 conf_int_df.upper_limits, color='pink')\n",
    "\n",
    "# set labels, legends and show plot\n",
    "plt.xlabel('Date')\n",
    "plt.ylabel('Energy Prediction')\n",
    "plt.legend()\n",
    "plt.show()"
   ]
  },
  {
   "cell_type": "code",
   "execution_count": 6,
   "metadata": {},
   "outputs": [],
   "source": [
    "#6\n",
    "PERIOD = '1H'\n",
    "#FORECAST_DURATION = '1 day'\n",
    "\n",
    "# Import data\n",
    "series_df = demand_data_analysis.price\n",
    "\n",
    "# Creating the forecast index\n",
    "from datetime import datetime, timedelta\n",
    "\n",
    "# Set start and end dates\n",
    "start = \"2022.10.01\" #series_df.index[0]\n",
    "end = \"2022.10.31\"    #series_df.index[-1]\n",
    "start_forecast = '2022.11.01'\n",
    "end_forecast = '2022.11.02'\n",
    "\n",
    "# Orginal and forecast index\n",
    "org_datetime = pd.date_range(start, end, freq=PERIOD)\n",
    "forecast_datetime = pd.date_range(start_forecast, end_forecast, freq=PERIOD)"
   ]
  },
  {
   "cell_type": "code",
   "execution_count": 7,
   "metadata": {},
   "outputs": [
    {
     "data": {
      "image/png": "[encoded data removed]",
      "text/plain": [
       "<Figure size 2880x432 with 1 Axes>"
      ]
     },
     "metadata": {
      "needs_background": "light"
     },
     "output_type": "display_data"
    }
   ],
   "source": [
    "#7\n",
    "# Preparing the time series plots\n",
    "#NUM_OF_STEPS_AHEAD = 24\n",
    "NUM_OF_STEPS_AHEAD = len(forecast_datetime)\n",
    "# Generate predictions\n",
    "forecast = results.get_forecast(steps=NUM_OF_STEPS_AHEAD)\n",
    "series_df = demand_data_analysis.price\n",
    "# Extract prediction mean\n",
    "mean_forecast = forecast.predicted_mean\n",
    "#mead_forcast_x = forecast_datetime\n",
    "forecast_df = pd.DataFrame(mean_forecast.to_list(), \n",
    "                           index=forecast_datetime, columns = ['forecast'])\n",
    "\n",
    "# Get confidence intervals of  predictions\n",
    "confidence_intervals = forecast.conf_int()\n",
    "# confidence_intervals\n",
    "# # Select lower and upper confidence limits\n",
    "lower_limits = confidence_intervals.loc[:,'lower price']\n",
    "upper_limits = confidence_intervals.loc[:,'upper price']\n",
    "conf_int_df = pd.DataFrame(list(zip(lower_limits, upper_limits)), index=forecast_datetime, \n",
    "                           columns = ['lower_limits','upper_limits'])\n",
    "\n",
    "## Connecting the series\n",
    "series_df = pd.concat([series_df, forecast_df.forecast])#[:len(series_df)+1]\n",
    "\n",
    "#print(series_df) #to prood values\n",
    "#forecast_df.head()\n",
    "plt.figure(figsize=(40,6))\n",
    "\n",
    "# # plot your mean predictions\n",
    "plt.plot(forecast_df, color='r', label='forecast')\n",
    "\n",
    "# # # plot the amazon data\n",
    "#plt.plot(series_df , color='b', label='observed')\n",
    "\n",
    "\n",
    "# # shade the area between your confidence limits\n",
    "#plt.fill_between(conf_int_df.index, conf_int_df.lower_limits,  conf_int_df.upper_limits, color='pink')\n",
    "\n",
    "plt.savefig('web-interface/static/trendline.png')\n",
    "\n",
    "# set labels, legends and show plot\n",
    "plt.xlabel('datetime')\n",
    "plt.ylabel('Energy Forecast')\n",
    "plt.legend()\n",
    "plt.show()"
   ]
  },
  {
   "cell_type": "code",
   "execution_count": 32,
   "metadata": {},
   "outputs": [
    {
     "data": {
      "text/plain": [
       "99864.70381912346"
      ]
     },
     "execution_count": 32,
     "metadata": {},
     "output_type": "execute_result"
    }
   ],
   "source": [
    "full_data = pd.read_excel('7th month.xlsx', parse_dates=['datetime'], index_col='datetime')\n",
    "full_data = full_data.apply(pd.to_numeric) \n",
    "full_data.sort_index(inplace=True)\n",
    "#full_data.shape\n",
    "#full_data['exo'] = full_data['exo'].fillna(0)\n",
    "\n",
    "demand_data_analysis = full_data.copy()\n",
    "#demand_data_analysis = demand_data_analysis.apply (pd.to_numeric, errors='coerce')\n",
    "#demand_data_analysis.dropna()\n",
    "#demand_data_analysis['datetime'] = demand_data_analysis['datetime'].fillna(0)\n",
    "demand_data_analysis['price'] = demand_data_analysis['price'].fillna(0)\n",
    "#demand_data_analysis.tail()\n",
    "forecast_df25 = forecast_df.tail(24).copy()\n",
    "forecast_df25.dropna()\n",
    "demand_data_analysis = demand_data_analysis.tail(24).copy()\n",
    "demand_data_analysis.dropna()\n",
    "# demand_data_analysis.shape\n",
    "#mse_original = ((demand_data_analysis.price.to_numpy() - \n",
    " #                   forecast_df25.forecast.to_numpy()) ** 2).mean()\n",
    "#print('Mean square error of forecasted demand from source: {:.2f}'.format(mse_original/24))\n",
    "from sklearn.metrics import mean_squared_error\n",
    "#print(demand_data_analysis.price,forecast_df25.forecast)\n",
    "mean_squared_error( demand_data_analysis.price.to_numpy(),forecast_df25.forecast.to_numpy())\n",
    "#forecast_df.tail(24)\n",
    "#demand_data_analysis.head(25)"
   ]
  },
  {
   "cell_type": "markdown",
   "metadata": {},
   "source": [
    "Перелік умовних позначень та скорочень\n",
    "Вступ\n",
    "\n",
    "1. Аналіз задачі прогнозування показників продажу електроенергії на сегменті ринку \"На добу наперед\"\n",
    "    1.1 Нова модель ринку електричної енергії України \n",
    "    1.2 Актуальність прогнозування показників продажу електроенергії  \n",
    "    1.3 Аналіз способів прогнозування часових рядів\n",
    "    1.4 Порівняння авторегресійних моделей\n",
    "        1.4.1 Модель AR\n",
    "        1.4.2 Модель ARIMA\n",
    "        1.4.3 Модель SARIMA\n",
    "        1.4.4 Модель SARIMAX\n",
    "    1.5 Вибір авторегресійної моделі \n",
    "    1.6 Постановка задачі дослідження\n",
    "  Висновки до розділу 1\n",
    "2. Прогнозування на основі авторегресійної моделі SARIMAX\n",
    "    2.1 Огляд математичної складової обраної моделі \n",
    "    2.2 Аналіз ключових статистичних показників\n",
    "    2.2 Визначення вхідних параметрів для моделі\n",
    "    2.3 Формування прогнозу та визначення похибки прогнозування  \n",
    "  Висновки до розділу 2\n",
    "3. Реалізація системи\n",
    "    3.1 Вибір засобів реалізації системи\n",
    "    3.2 Архітектура системи\n",
    "    3.3 Інтерфейс системи\n",
    "  Висновки до розділу 3\n",
    "4. Планування стартап-проєкту\n",
    "    4.1 Опис ідеї проекту\n",
    "    4.2 Аналіз ринкових можливостей запуску стартап-проекту\n",
    "    4.3 Розробка ринкової стратегії проекту\n",
    "    4.4 Розробка маркетингової програми стартап-проекту\n",
    "  Висновки до розділу 4\n",
    "\n",
    "Висновки за роботою та перспективи для подальших досліджень\n",
    "Перелік посилань"
   ]
  },
  {
   "cell_type": "markdown",
   "metadata": {},
   "source": [
    "завантажили, проаназіували, змінили вхідні дані( лаги) оцінили ступінь кореляції, робимо висновок- для моделі такі то дані - \n",
    "вхідні"
   ]
  }
 ],
 "metadata": {
  "kernelspec": {
   "display_name": "Python 3.10.4 64-bit",
   "language": "python",
   "name": "python3"
  },
  "language_info": {
   "codemirror_mode": {
    "name": "ipython",
    "version": 3
   },
   "file_extension": ".py",
   "mimetype": "text/x-python",
   "name": "python",
   "nbconvert_exporter": "python",
   "pygments_lexer": "ipython3",
   "version": "3.10.6"
  },
  "orig_nbformat": 4,
  "vscode": {
   "interpreter": {
    "hash": "916dbcbb3f70747c44a77c7bcd40155683ae19c65e1c03b4aa3499c5328201f1"
   }
  }
 },
 "nbformat": 4,
 "nbformat_minor": 2
}
